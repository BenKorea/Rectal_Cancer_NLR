{
 "cells": [
  {
   "cell_type": "markdown",
   "metadata": {},
   "source": [
    "# Neutrophil-to-lymphocyte ratio can be a strong preditor for clinical\n",
    "\n",
    "outcomes in rectal cancer?\n",
    "\n",
    "R & Python Study Group (KIRAMS)"
   ],
   "id": "16645bc0-d6a1-487b-8738-749383ab3fee"
  },
  {
   "cell_type": "code",
   "execution_count": null,
   "metadata": {},
   "outputs": [],
   "source": [
    "# 프로젝트에는 필요하나 manuscript에 적합하지 않한 출력을 하는 코드들의 출력을 조정하기 위한 환경변수\n",
    "manusctipt_mode<-\"Y\" # \"Y\"이면 manuscript에 적합한 출력을 하고, \"N\"이면 manuscript에 적합하지 않은 출력을 함"
   ],
   "id": "8633d187-f640-48c4-a7eb-2e26396d19c0"
  },
  {
   "cell_type": "code",
   "execution_count": null,
   "metadata": {},
   "outputs": [
    {
     "output_type": "stream",
     "name": "stderr",
     "text": [
      "\n",
      "Attaching package: 'dplyr'"
     ]
    },
    {
     "output_type": "stream",
     "name": "stderr",
     "text": [
      "The following objects are masked from 'package:data.table':\n",
      "\n",
      "    between, first, last"
     ]
    },
    {
     "output_type": "stream",
     "name": "stderr",
     "text": [
      "The following objects are masked from 'package:stats':\n",
      "\n",
      "    filter, lag"
     ]
    },
    {
     "output_type": "stream",
     "name": "stderr",
     "text": [
      "The following objects are masked from 'package:base':\n",
      "\n",
      "    intersect, setdiff, setequal, union"
     ]
    },
    {
     "output_type": "stream",
     "name": "stderr",
     "text": [
      "Loading required package: ggplot2"
     ]
    },
    {
     "output_type": "stream",
     "name": "stderr",
     "text": [
      "Loading required package: ggpubr"
     ]
    },
    {
     "output_type": "stream",
     "name": "stderr",
     "text": [
      "\n",
      "Attaching package: 'survminer'"
     ]
    },
    {
     "output_type": "stream",
     "name": "stderr",
     "text": [
      "The following object is masked from 'package:survival':\n",
      "\n",
      "    myeloma"
     ]
    },
    {
     "output_type": "stream",
     "name": "stderr",
     "text": [
      "Loading required package: carData"
     ]
    },
    {
     "output_type": "stream",
     "name": "stderr",
     "text": [
      "\n",
      "Attaching package: 'car'"
     ]
    },
    {
     "output_type": "stream",
     "name": "stderr",
     "text": [
      "The following object is masked from 'package:dplyr':\n",
      "\n",
      "    recode"
     ]
    },
    {
     "output_type": "stream",
     "name": "stderr",
     "text": [
      "Loading required package: Hmisc"
     ]
    },
    {
     "output_type": "stream",
     "name": "stderr",
     "text": [
      "\n",
      "Attaching package: 'Hmisc'"
     ]
    },
    {
     "output_type": "stream",
     "name": "stderr",
     "text": [
      "The following objects are masked from 'package:dplyr':\n",
      "\n",
      "    src, summarize"
     ]
    },
    {
     "output_type": "stream",
     "name": "stderr",
     "text": [
      "The following objects are masked from 'package:base':\n",
      "\n",
      "    format.pval, units"
     ]
    },
    {
     "output_type": "stream",
     "name": "stderr",
     "text": [
      "\n",
      "Attaching package: 'rms'"
     ]
    },
    {
     "output_type": "stream",
     "name": "stderr",
     "text": [
      "The following objects are masked from 'package:car':\n",
      "\n",
      "    Predict, vif"
     ]
    },
    {
     "output_type": "stream",
     "name": "stderr",
     "text": [
      "Loading required package: lattice"
     ]
    },
    {
     "output_type": "stream",
     "name": "stderr",
     "text": [
      "\n",
      "Attaching package: 'lattice'"
     ]
    },
    {
     "output_type": "stream",
     "name": "stderr",
     "text": [
      "The following object is masked from 'package:moonBook':\n",
      "\n",
      "    densityplot"
     ]
    },
    {
     "output_type": "stream",
     "name": "stderr",
     "text": [
      "\n",
      "Attaching package: 'caret'"
     ]
    },
    {
     "output_type": "stream",
     "name": "stderr",
     "text": [
      "The following object is masked from 'package:survival':\n",
      "\n",
      "    cluster"
     ]
    },
    {
     "output_type": "stream",
     "name": "stderr",
     "text": [
      "Loading required package: prodlim"
     ]
    },
    {
     "output_type": "stream",
     "name": "stderr",
     "text": [
      "\n",
      "Attaching package: 'pec'"
     ]
    },
    {
     "output_type": "stream",
     "name": "stderr",
     "text": [
      "The following object is masked from 'package:caret':\n",
      "\n",
      "    R2"
     ]
    },
    {
     "output_type": "stream",
     "name": "stderr",
     "text": [
      "\n",
      "Attaching package: 'purrr'"
     ]
    },
    {
     "output_type": "stream",
     "name": "stderr",
     "text": [
      "The following object is masked from 'package:caret':\n",
      "\n",
      "    lift"
     ]
    },
    {
     "output_type": "stream",
     "name": "stderr",
     "text": [
      "The following object is masked from 'package:car':\n",
      "\n",
      "    some"
     ]
    },
    {
     "output_type": "stream",
     "name": "stderr",
     "text": [
      "The following object is masked from 'package:data.table':\n",
      "\n",
      "    transpose"
     ]
    },
    {
     "output_type": "stream",
     "name": "stderr",
     "text": [
      "\n",
      "Attaching package: 'kableExtra'"
     ]
    },
    {
     "output_type": "stream",
     "name": "stderr",
     "text": [
      "The following object is masked from 'package:dplyr':\n",
      "\n",
      "    group_rows"
     ]
    },
    {
     "output_type": "stream",
     "name": "stderr",
     "text": [
      "Loading required package: tinylabels"
     ]
    }
   ],
   "source": [
    "# 라이브러리들은 한 곳에 모아두어 총 로딩시간을 줄이고자 함\n",
    "library(readxl)\n",
    "library(data.table)\n",
    "library(moonBook)\n",
    "library(dplyr)"
   ],
   "id": "d298370a-1418-4684-bf29-10a7fe4c69be"
  },
  {
   "cell_type": "code",
   "execution_count": null,
   "metadata": {},
   "outputs": [],
   "source": [
    "################################################################################\n",
    "# 파일경로 및 patten을 이용해서 data.table로 읽어오기 \n",
    "################################################################################\n",
    "\n",
    "load_raw_data <- function(folder_path, pattern) {\n",
    "\n",
    "  excel_file_name <- list.files(folder_path, pattern = pattern)\n",
    "  if(length(excel_file_name) == 0) {\n",
    "    stop(\"No files starting with 'NLR' found in the specified folder.\")\n",
    "  }\n",
    "  data <- as.data.table(read_excel(file.path(folder_path, excel_file_name[1])))\n",
    "\n",
    "    return(data)\n",
    "}\n",
    "\n",
    "\n",
    "folder_path <- \"C:/R/Projects/R-4.4.0-Rectal_Cancer_NLR/data/raw_data/\"\n",
    "pattern <- \"NLR.*\"\n",
    "raw_data <- raw_data_initial <- load_raw_data(folder_path, pattern)"
   ],
   "id": "7776f043-ddad-4111-967f-5bb768e03467"
  },
  {
   "cell_type": "code",
   "execution_count": null,
   "metadata": {},
   "outputs": [],
   "source": [
    "################################################################################\n",
    "# 데이터 전처리 \n",
    "################################################################################\n",
    "#    # 임상시험번호로 추정되는 MRN과 날짜를 포함하는 37열부터 41열까지는 제외\n",
    "#    # NA>35 이상으로 전체 데이터 920임에 비해 상대적으로 많은 열들은 삭제\n",
    "#    # 특정변수가 \"Unknown\"이면 raw_data 해당 행을 삭제\n",
    "#    # 특정변수 중 빈도가 1일 정도로 낮은 값들을 삭제 (다변량 cox는 NA가 없어야 함)\n",
    "#    # mistyping 교정\n",
    "#    # 범주형변수를 임상적의미와 빈도를 고려해 재설정\n",
    "################################################################################\n",
    "\n",
    "# 임상시험번호로 추정되는 MRN과 날짜를 포함하는 37열부터 41열까지는 제외\n",
    "raw_data <- raw_data[, -c(1, 37:41), with = FALSE]\n",
    "raw_data[raw_data == \"NA\"] <- NA\n",
    "\n",
    "# NA>35 이상으로 전체 데이터 927에 비해 상대적으로 많은 열들은 삭제\n",
    "raw_data <- select(raw_data, -c(CCTx, ASA, Induct, RT_dose, Recur_site, Surgery,PNI, LV_PNI, Viable, LVI, Adj_KIND, cStage23, CTx_regimen))\n",
    "raw_data <- raw_data[complete.cases(raw_data), ]\n",
    "\n",
    "# 특정변수가 \"Unknown\"이면 raw_data 해당 행을 삭제\n",
    "raw_data <- raw_data[cT != \"Unknown\"]\n",
    "raw_data <- raw_data[cN != \"Unknown\"]\n",
    "raw_data <- raw_data[cStage != \"Unknown\"]\n",
    "\n",
    "# 특정변수 중 빈도가 1일 정도로 낮은 값들을 삭제\n",
    "raw_data <- raw_data[Histology != \"MD,MUC\"]\n",
    "raw_data <- raw_data[Histology != \"MUC\"]\n",
    "raw_data <- raw_data[Histology != \"SRC\"]\n",
    "raw_data <- raw_data[Histology != \"SRC,PD\"]\n",
    "raw_data <- raw_data[Ptve_LN != \"-2\"]\n",
    "\n",
    "# mistyping 교정\n",
    "# raw_data[Surgery == \"aPR\", Surgery := \"APR\"]\n",
    "raw_data[CRM == \"negative\", CRM := \"Negative\"]\n",
    "\n",
    "# 범주형변수를 임상적의미와 빈도를 고려해 재설정\n",
    "raw_data[pT == \"is\", pT := \"0\"]\n",
    "raw_data[pT == \"4a\", pT := \"4\"]\n",
    "raw_data[pT == \"4b\", pT := \"4\"]\n",
    "raw_data[pT == \"4B\", pT := \"4\"]\n",
    "raw_data[pN == \"1c\", pN := \"1\"]"
   ],
   "id": "870390da-f632-446b-8a26-4914019030e8"
  },
  {
   "cell_type": "code",
   "execution_count": null,
   "metadata": {},
   "outputs": [],
   "source": [
    "################################################################################\n",
    "# 엑셀을 읽어오면서 숫자 및 문자가 부적절하게 된 것을 수정하는 함수\n",
    "################################################################################\n",
    "#   # factor, numeric으로 변환\n",
    "#   # 독립변수 factor 변환\n",
    "#   # 독립변수 numeric 변환\n",
    "################################################################################\n",
    "\n",
    "type_casting_data <- function(data) {\n",
    "\n",
    "  #종속변수 factor 변환\n",
    "  data$RECUR <- factor(data$RECUR, levels = c(0, 1), labels = c(\"No\", \"Yes\"))\n",
    "  data$DEAD <- factor(data$DEAD, levels = c(0, 1), labels = c(\"No\", \"Yes\"))\n",
    "  \n",
    "  #독립변수 factor 변환\n",
    "  data$Male <- factor(data$Male, levels = c(0, 1), labels = c(\"Female\", \"Male\"))\n",
    "  data$Induction <- factor(data$Induction, levels = c(0, 1), labels = c(\"No\", \"Yes\"))\n",
    "  data$MIS <- factor(data$MIS, levels = c(0, 1), labels = c(\"No\", \"Yes\"))\n",
    "  data$SSS <- factor(data$SSS, levels = c(0, 1), labels = c(\"No\", \"Yes\"))\n",
    "  data$ypStage <- factor(data$ypStage, levels = c(0, 1, 2, 3), labels = c(\"0\", \"1\", \"2\", \"3\"))\n",
    "  data$RES_G <- factor(data$RES_G, levels = c(1, 2, 3), labels = c(\"1\", \"2\", \"3\"))\n",
    "  \n",
    "  # 독립변수 numeric 변환\n",
    "  data$RTOP_W <- as.numeric(data$RTOP_W)\n",
    "  data$total.LN <- as.numeric(data$total.LN)\n",
    "  data$Ptve_LN <- as.numeric(data$Ptve_LN)\n",
    "  data$CEA <- as.numeric(data$CEA)\n",
    "  data$preAlb <- as.numeric(data$preAlb)\n",
    "  data$preWBC <- as.numeric(data$preWBC)\n",
    "  data$preNEU <- as.numeric(data$preNEU)\n",
    "  data$preLYM <- as.numeric(data$preLYM)\n",
    "  data$prePLT <- as.numeric(data$prePLT)\n",
    "  data$preNLR <- round(as.numeric(data$preNLR), 2)\n",
    "  data$prePLR <- round(as.numeric(data$prePLR), 2)\n",
    "  data$preAlb <- as.numeric(data$preAlb)\n",
    "  data$postWBC <- as.numeric(data$postWBC)\n",
    "  data$postNEU <- as.numeric(data$postNEU)\n",
    "  data$postLYM <- as.numeric(data$postLYM)\n",
    "  data$postPLT <- as.numeric(data$postPLT)\n",
    "  data$postNLR <- round(as.numeric(data$postNLR), 2)\n",
    "  data$postPLR <- round(as.numeric(data$postPLR), 2)\n",
    "  \n",
    "  return(data)\n",
    "}\n",
    "\n",
    "\n",
    "type_casted_data<-type_casting_data(raw_data)"
   ],
   "id": "5180bf7d-3a5a-4cc7-aef8-c09cdd68ed0c"
  },
  {
   "cell_type": "code",
   "execution_count": null,
   "metadata": {},
   "outputs": [],
   "source": [
    "################################################################################\n",
    "# raw_data를 정리한 table을 만들기\n",
    "################################################################################\n",
    "#   # RECUR 여부에 따른 변수들의 기술적 분포표\n",
    "#   # DEAD 여부에 따른 기술적 분포표\n",
    "#   # 독립변수 numeric 변환\n",
    "################################################################################\n",
    "\n",
    "# RECUR 여부에 따른 변수들의 기술적 분포표\n",
    "type_casted_data_table_RECUR<-mytable(RECUR ~ .-POS-DEAD, data = type_casted_data)\n",
    "# DEAD 여부에 따른 기술적 분포표\n",
    "type_casted_data_table_DEAD<-mytable(DEAD ~ .-PDFS-RECUR, data = type_casted_data)\n",
    "\n",
    "#표를 데이터프레임을 전환\n",
    "tb1<-as.data.frame(type_casted_data_table_RECUR$res)\n",
    "tb2<-as.data.frame(type_casted_data_table_DEAD$res)\n",
    "\n",
    "# 원하는 부분만 선택한 후\n",
    "tb3<-tb1 %>% select(1:4)\n",
    "tb4<-tb2 %>% select(2:4)\n",
    "\n",
    "# 두 표를 하나로 합치기\n",
    "table<-cbind(tb3,tb4)\n",
    "\n",
    "# count_row를 생성하여 RECUR 및 DEAD의 NO YES에 따른 빈도 표시 추가\n",
    "header_row <- c(\n",
    "  \"\",\n",
    "  paste(\"(N=\", type_casted_data_table_RECUR$count[1], \")\", sep=\"\"),\n",
    "  paste(\"(N=\", type_casted_data_table_RECUR$count[2], \")\", sep=\"\"),\n",
    "  \"\", \n",
    "  paste(\"(N=\", type_casted_data_table_DEAD$count[1], \")\", sep=\"\"),\n",
    "  paste(\"(N=\", type_casted_data_table_DEAD$count[2], \")\", sep=\"\"),\n",
    "  \"\"\n",
    ")\n",
    "type_casted_data_table<-rbind(header_row,table)\n",
    "\n",
    "rm(tb1, tb2, tb3, tb4, table, header_row,type_casted_data_table_RECUR,type_casted_data_table_DEAD)\n",
    "\n",
    "\n",
    "\n",
    "if (manusctipt_mode!=\"Y\") {\n",
    "  type_casted_data_table\n",
    "}"
   ],
   "id": "5939a8c1-79b4-4516-89e9-61400a4c318d"
  },
  {
   "cell_type": "code",
   "execution_count": null,
   "metadata": {},
   "outputs": [],
   "source": [
    "################################################################################\n",
    "# 연속형변수들의 cut_off value에 따른 이분화\n",
    "################################################################################\n",
    "#   # cut_off value를 반환하는 함수\n",
    "#   # 숫자인 것을 이분화하는 과정에서 컬럼명을 삭제하기 위해 사용하는 함수\n",
    "#   # 변수 하나를 cut_off value로 2분화된 범주형변수로 변한하는 함수\n",
    "#   # 모든 연속형변수들을 한꺼번에 cut_off value로 2분화된 범주형변수로 변한하는 함수\n",
    "################################################################################\n",
    "\n",
    "# cut_off value를 반환하는 함수\n",
    "run_maxstat_test <- function(dt, column_name) {\n",
    "  mstat <- maxstat.test(Surv(PDFS, RECUR) ~ dt[[column_name]], data = dt,\n",
    "                        smethod = \"LogRank\", pmethod = \"condMC\", B = 999)\n",
    "  return(mstat$estimate)\n",
    "}\n",
    "\n",
    "# 숫자인 것을 이분화하는 과정에서 컬럼명을 삭제하기 위해 사용하는 함수\n",
    "remove_continuous_columns <- function(dt) {\n",
    "  continuous_columns <- grep(\"continuous\", names(dt), value = TRUE)\n",
    "  dt[, (continuous_columns) := NULL]\n",
    "  return(dt)\n",
    "}\n",
    "\n",
    "# 변수 하나를 cut_off value로 2분화된 범주형변수로 변한하는 함수\n",
    "transform_column <- function(dt, column_name, cut_off_value) {\n",
    "\n",
    "  # 기존 컬럼명을 컬럼명_continuous로 변경\n",
    "  new_column_name <- paste(column_name, \"_continuous\", sep = \"\")\n",
    "  setnames(dt, old = column_name, new = new_column_name)\n",
    "  # 새로운 컬럼을 파생시키고 값을 설정\n",
    "  dt[, (column_name) := ifelse(is.na(.SD), NA, ifelse(.SD > cut_off_value, 1, 0)), .SDcols = new_column_name]\n",
    "  dt[, (column_name) := factor(dt[[column_name]], levels = c(0, 1), labels = c(paste(\">\", cut_off_value), paste(\"≤\", cut_off_value)))]\n",
    "  dt<-remove_continuous_columns(dt)\n",
    "  \n",
    "  return(dt)\n",
    "}\n",
    "\n",
    "# 데이터테이블을 인자로 받아서 연속형변수에 한해 cut_off value로 2분화된 범주형변수로 변한하는 함수\n",
    "dichotomization_continuous_variables <- function(dt) {\n",
    "  numeric_columns <- names(dt)[sapply(dt, is.numeric)]\n",
    "  exclude_columns <- c(\"PDFS\", \"POS\")  # 제외할 컬럼명 리스트\n",
    "  for(col in numeric_columns) {\n",
    "    if(col %in% exclude_columns) {\n",
    "      next  # PDFS 또는 POS인 경우 다음 순회로 넘어감\n",
    "    }\n",
    "    cut_off_value <- run_maxstat_test(dt, col)\n",
    "    dichotomized_data<-transform_column(dt, col, cut_off_value)\n",
    "  }\n",
    "  return(dt)\n",
    "}\n",
    "\n",
    "\n",
    "dichotomized_data<-dichotomization_continuous_variables(type_casted_data)"
   ],
   "id": "a4c9c35b-7cc3-4f94-8ef8-6a499a3e1536"
  },
  {
   "cell_type": "code",
   "execution_count": null,
   "metadata": {},
   "outputs": [],
   "source": [
    "################################################################################\n",
    "# 범주형변수 값들의 분포와 빈도, 필요 시 합치기\n",
    "################################################################################\n",
    "#   # ggpsurvplot 함수에서는 status에 해당하는 변수를 numeric으로 type casting 하니 오류가 없어져서 불가피하게 numeric으로 진행\n",
    "#   # 데이터테이블을 전달하여 ggpsurvplot를 범주형변수들에 대해 그리는 함수 만들기 실패!. 따라서 범주형변수마다 그래프 확인함\n",
    "#   # 일부 범주형변수들에서는 그 값들을 합쳐서 진행함 \n",
    "#   # 모든 연속형변수들을 한꺼번에 cut_off value로 2분화된 범주형변수로 변한하는 함수\n",
    "################################################################################\n",
    "\n",
    "# ggpsurvplot 함수에서는 status에 해당하는 변수가 factor가 지원되지 안으므로 numeric으로 type casting 하여 진행\n",
    "dichotomized_data$RECUR<-as.numeric(dichotomized_data$RECUR)\n",
    "\n",
    "# 데이터테이블을 전달하여 ggpsurvplot를 범주형변수들에 대해 그리는 함수 만들기 실패!. 따라서 범주형변수마다 그래프 확인함\n",
    "plot_LOC<-ggsurvplot(\n",
    "    survfit(Surv(PDFS, RECUR) ~ LOC, data = dichotomized_data),\n",
    "    pval = TRUE,\n",
    "    risk.table = TRUE\n",
    "    )\n",
    "if (manusctipt_mode!=\"Y\") {\n",
    "  plot_LOC\n",
    "}\n",
    "\n",
    "plot_cT<-ggsurvplot(\n",
    "    survfit(Surv(PDFS, RECUR) ~ cT, data = dichotomized_data),\n",
    "    pval = TRUE,\n",
    "    risk.table = TRUE\n",
    "  )\n",
    "if (manusctipt_mode!=\"Y\") {\n",
    "  plot_cT\n",
    "}\n",
    "\n",
    "dichotomized_data$cT <- ifelse(dichotomized_data$cT == \"2\", \"2\", \"3/4\")\n",
    "plot_cT<-ggsurvplot(\n",
    "    survfit(Surv(PDFS, RECUR) ~ cT, data = dichotomized_data),\n",
    "    pval = TRUE,\n",
    "    risk.table = TRUE\n",
    "  )\n",
    "if (manusctipt_mode!=\"Y\") {\n",
    "  plot_cT\n",
    "}\n",
    "\n",
    "plot_cN<-ggsurvplot(\n",
    "    survfit(Surv(PDFS, RECUR) ~ cN, data = dichotomized_data),\n",
    "    pval = TRUE,\n",
    "    risk.table = TRUE\n",
    "  )\n",
    "if (manusctipt_mode!=\"Y\") {\n",
    "  plot_cN\n",
    "}\n",
    "# 일부 범주형변수들에서는 그 값들을 합쳐서 진행함 \n",
    "dichotomized_data$cN <- ifelse(dichotomized_data$cN == \"2\", \"2\", \"0/1\")\n",
    "plot_cN<-ggsurvplot(\n",
    "    survfit(Surv(PDFS, RECUR) ~ cN, data = dichotomized_data),\n",
    "    pval = TRUE,\n",
    "    risk.table = TRUE\n",
    "  )\n",
    "if (manusctipt_mode!=\"Y\") {\n",
    "  plot_cN\n",
    "}\n",
    "\n",
    "plot_APPROACH<-ggsurvplot(\n",
    "    survfit(Surv(PDFS, RECUR) ~ APPROACH, data = dichotomized_data),\n",
    "    pval = TRUE,\n",
    "    risk.table = TRUE\n",
    "  )\n",
    "if (manusctipt_mode!=\"Y\") {\n",
    "  plot_APPROACH\n",
    "}\n",
    "\n",
    "dichotomized_data$APPROACH <- ifelse(dichotomized_data$APPROACH == \"Open\", \"Open\", \"Laparoscopic/Robot\")\n",
    "plot_APPROACH<-ggsurvplot(\n",
    "    survfit(Surv(PDFS, RECUR) ~ APPROACH, data = dichotomized_data),\n",
    "    pval = TRUE,\n",
    "    risk.table = TRUE\n",
    "  )\n",
    "if (manusctipt_mode!=\"Y\") {\n",
    "  plot_APPROACH\n",
    "}\n",
    "\n",
    "plot_Histology<-ggsurvplot(\n",
    "    survfit(Surv(PDFS, RECUR) ~ Histology, data = dichotomized_data),\n",
    "    pval = TRUE,\n",
    "    risk.table = TRUE\n",
    "  )\n",
    "if (manusctipt_mode!=\"Y\") {\n",
    "  plot_Histology\n",
    "}\n",
    "\n",
    "dichotomized_data$Histology <- ifelse(dichotomized_data$Histology == \"WD\", \"WD\", \"MD/PD\")\n",
    "plot_Histology<-ggsurvplot(\n",
    "    survfit(Surv(PDFS, RECUR) ~ Histology, data = dichotomized_data),\n",
    "    pval = TRUE,\n",
    "    risk.table = TRUE\n",
    "  )\n",
    "if (manusctipt_mode!=\"Y\") {\n",
    "  plot_Histology\n",
    "}\n",
    "\n",
    "plot_pT<-ggsurvplot(\n",
    "    survfit(Surv(PDFS, RECUR) ~ pT, data = dichotomized_data),\n",
    "    pval = TRUE,\n",
    "    risk.table = TRUE\n",
    "  )\n",
    "if (manusctipt_mode!=\"Y\") {\n",
    "  plot_pT\n",
    "}\n",
    "\n",
    "dichotomized_data$pT <- ifelse((dichotomized_data$pT == \"3\")|(dichotomized_data$pT == \"4\"), \"3/4\", \"0/1/2\")\n",
    "plot_pT<-ggsurvplot(\n",
    "    survfit(Surv(PDFS, RECUR) ~ pT, data = dichotomized_data),\n",
    "    pval = TRUE,\n",
    "    risk.table = TRUE\n",
    "  )\n",
    "if (manusctipt_mode!=\"Y\") {\n",
    "  plot_pT\n",
    "}\n",
    "\n",
    "plot_pN<-ggsurvplot(\n",
    "    survfit(Surv(PDFS, RECUR) ~ pN, data = dichotomized_data),\n",
    "    pval = TRUE,\n",
    "    risk.table = TRUE\n",
    "  )\n",
    "if (manusctipt_mode!=\"Y\") {\n",
    "  plot_pN\n",
    "}\n",
    "\n",
    "plot_ypStage<-ggsurvplot(\n",
    "    survfit(Surv(PDFS, RECUR) ~ ypStage, data = dichotomized_data),\n",
    "    pval = TRUE,\n",
    "    risk.table = TRUE\n",
    "  )\n",
    "if (manusctipt_mode!=\"Y\") {\n",
    "  plot_ypStage\n",
    "}\n",
    "\n",
    "\n",
    "plot_RES_G<-ggsurvplot(\n",
    "    survfit(Surv(PDFS, RECUR) ~ RES_G, data = dichotomized_data),\n",
    "    pval = TRUE,\n",
    "    risk.table = TRUE\n",
    "  )\n",
    "if (manusctipt_mode!=\"Y\") {\n",
    "  plot_RES_G\n",
    "}\n",
    "\n",
    "dichotomized_data$RES_G <- ifelse(dichotomized_data$RES_G == \"3\", \"3\", \"1/2\")\n",
    "plot_RES_G<-ggsurvplot(\n",
    "    survfit(Surv(PDFS, RECUR) ~ RES_G, data = dichotomized_data),\n",
    "    pval = TRUE,\n",
    "    risk.table = TRUE\n",
    "  )\n",
    "if (manusctipt_mode!=\"Y\") {\n",
    "  plot_RES_G\n",
    "}"
   ],
   "id": "0196f345-3533-45e9-a979-761340d3ac9d"
  },
  {
   "cell_type": "markdown",
   "metadata": {},
   "source": [
    "## Background\n",
    "\n",
    "## Methods\n",
    "\n",
    "### Patient cohort\n",
    "\n",
    "We retrospectively reviewed **927** RC patients who underwent R0 and **R1** surgical resection between **** and **-** at the **MD Anderson Cancer Center**. **(우선 NA 값이 40 case 이상 포함된 항목들은 항목 자체를 분석에서 제외하였고, 다음으로는 NA가 하나라도 포함된 case를 분석에서 제외하였다. )** Magnetic resonance imaging was used to evaluate the clinical stage of the tumour preoperatively. The final diagnosis of the patients was confirmed by routine pathology. The exclusion criteria were as follows: recurrent or metastatic RC confirmed preoperatively or at surgery, emergency cases, unavailable clinicopathological data, more than 1 primary cancer, receiving anticancer treatments preoperatively, resections with macro- or microscopically positive pathological margins and with active infection or the use systemic corticosteroids. The TNM classification of malignant tumours, 8th edition, edited by the Union for International Cancer Control (UICC) was used to determine the TNM stage. Patients with T1 RCs and no signs of lymph node metastasis on endorectal ultrasound or MRI underwent local excision through transanal endoscopic microsurgery (TEM), or laparoscopic or open surgery was performed. Informed consent was obtained from each patient, and the present study was approved by the Ethics Committee of the **KIRAMS.**\n",
    "\n",
    "### Definitions\n",
    "\n",
    "Peripheral blood was obtained 1 week prior to surgery. The NLR was determined by dividing the absolute neutrophil count by the absolute lymphocyte count; the PLR was determined by dividing the absolute platelet count by the absolute lymphocyte count; and the LMR was determined by dividing the absolute lymphocyte count by the absolute monocyte count. The PNI was calculated by the following formula: serum albumin (g/L) + 5 × total lymphocyte count × 109/L. \\[19\\] Postoperative complications were defined as any in-hospital or 30-day postoperative complication and graded according to the Clavien- Dindo classification \\[20\\].\n",
    "\n",
    "### Follow-up and study endpoints\n",
    "\n",
    "Patients were followed-up periodically after surgery. Re-examination was performed at 3-month intervals for the first 2 years postoperatively, every 6months for the next 3 years and every year thereafter. Physical examinations and blood tests, including serum carcinoembryonic antigen (CEA) levels, were performed at each follow-up. A chest X-ray and abdominopelvic computed tomography scan were performed every 6 months, and colonoscopy was performed annually or when there was a suspicion of recurrence. In addition, rigid rectoscopy and endorectal ultrasound were conducted at every visit except for the colonoscopy visit of the TEM patients. The primary endpoints were cancer recurrence or death. The secondary endpoint was the occurrence of postoperative complications. Overall survival (OS) was calculated as the date of diagnosis to the date of death from any cause. Disease-free survival (DFS) was defined as the time interval from cancer diagnosis until tumour recurrence or death from any cause.\n",
    "\n",
    "### Statistical analysis\n",
    "\n",
    "The data are presented as the mean ± standard deviation. Categorical variables were analysed with Pearson’s Chisquare test or Fisher’s exact test as appropriate. The cutoff values for NLR, PLR, LMR, and PNI were determined using **maxstat package test function**. Kaplan–Meier analysis and the log rank test were used to compare the survival curves of the 2 groups. Risk factors for poor survival were detected by univariate and multivariate analyses using the Cox proportional hazards model. Variables with a P value of \\< 0.05 in the univariate analysis were further evaluated in the multivariate analysis to assess the independent predictors for **DFS.** **Before performing multivariate analysis, multicollinearity was assessed, and a Variance Inflation Factor (VIF) of less than 10 was deemed acceptable.** Statistical analyses were performed using **R version 4.4.0 (2024-04-24 ucrt).** A statistically significant difference was defined as a P value of \\< 0.05.\n",
    "\n",
    "## Results\n",
    "\n",
    "### Baseline patient characteristics and inflammatory-related parameters\n",
    "\n",
    "A total of **806** RC patients were enrolled in this study. The characteristics of the patients are shown in **Table 1.** Our study group comprised 90 (58.4%) male and 64 (41.6%) female patients, with a mean age of 63.7 years (range 32–90 years). A total of 63 (40.9%) patients had 1 or more comorbidities. TEM was conducted in 47 patients, while laparoscopic (n = 53) or open surgery (n = 54) was performed in 107 patients. No mortality occurred 30 days after the operation. A total of 26 complications (grade I-IVa) occurred in 22 (14.3%) patients postoperatively, including 22 grade I-II and 4 grade III-IVa complications. With a median followup interval of 42.4 months (range 12–89 months), the 3- year OS and DFS rates of all patients were 90.9 and 87.7%, respectively. Three patients died from a cause other than rectal cancer. The distributions of preoperative inflammatory-related parameters are shown in Table 2. The optimal cut-off values for preoperative NLR, PLR, LMR and PNI that best predicted OS were calculated to be 2.8 (area under the curve (AUC): 0.71; sensitivity: 53.0%; specificity: 84.0%), 140.0 (AUC: 0.64; sensitivity: 80.0%; specificity: 58.0%), 3.9 (AUC: 0.68; sensitivity: 73.0%; specificity: 65.0%), and 47.1 (AUC: 0.75; sensitivity: 60.0%; specificity: 83.0%), respectively (Fig. 1a-d). Then, the patients were dichotomized into high or low NLR/PLR/LMR/PNI groups with these cut-off values. The numbers and features of patients in each group are listed in Table 1."
   ],
   "id": "41f4a2cd-75f3-41f6-8355-f5ef66ab4858"
  },
  {
   "cell_type": "code",
   "execution_count": null,
   "metadata": {},
   "outputs": [
    {
     "output_type": "display_data",
     "metadata": {},
     "data": {}
    }
   ],
   "source": [
    "kable(type_casted_data_table, caption = \"Table 1 Descriptive Statistics by RECUR and DEAD\")"
   ],
   "id": "e31fb849-253c-47f1-817a-a70908490041"
  },
  {
   "cell_type": "markdown",
   "metadata": {},
   "source": [
    "cox 단변량분석에서 유의한 결과를 보였던 변수들은 아래와 같습니다."
   ],
   "id": "c58babc4-928d-4db1-9f2e-426185a2ccb5"
  },
  {
   "cell_type": "code",
   "execution_count": null,
   "metadata": {},
   "outputs": [
    {
     "output_type": "stream",
     "name": "stdout",
     "text": [
      "\n",
      " mycph : perform coxph of individual expecting variables\n",
      "\n",
      " Call: Surv(PDFS, RECUR) ~ . - PDFS - RECUR - POS - DEAD, data= dichotomized_data "
     ]
    },
    {
     "output_type": "stream",
     "name": "stdout",
     "text": [
      " [1] \"SSS\"      \"DRM\"      \"R1\"       \"pT\"       \"pN\"       \"ypStage\" \n",
      " [7] \"RES_G\"    \"AGE\"      \"total.LN\" \"Ptve_LN\"  \"CEA\"      \"preAlb\"  \n",
      "[13] \"preNEU\"   \"preLYM\"   \"postNEU\"  \"postPLT\"  \"postNLR\"  \"postPLR\" "
     ]
    }
   ],
   "source": [
    "################################################################################\n",
    "# 모든 변수들로 univariate cox 시행하고 p-value 기준치 이상을 선별\n",
    "################################################################################\n",
    "#   # mycph \n",
    "#   # p-value < 0.05\n",
    "#   # mycph 결과를 변수명 리스트로 만들기\n",
    "################################################################################\n",
    "\n",
    "# mycp\n",
    "univariate_cox_DFS <- mycph(Surv(PDFS, RECUR)~.-PDFS-RECUR-POS-DEAD, data = dichotomized_data)"
   ],
   "id": "5fbf3bf2-4174-4d17-942c-8f6ce209a3b2"
  },
  {
   "cell_type": "markdown",
   "metadata": {},
   "source": [
    "**공선성분석에서는 pN과 RES_G를 제외하였더니 만족되었다.**"
   ],
   "id": "7ff669ea-c514-4fa1-8f7c-ce3dab8c09a5"
  },
  {
   "cell_type": "code",
   "execution_count": null,
   "metadata": {},
   "outputs": [
    {
     "output_type": "stream",
     "name": "stdout",
     "text": [
      "             GVIF Df GVIF^(1/(2*Df))\n",
      "SSS      1.068631  1        1.033746\n",
      "DRM      1.445017  1        1.202088\n",
      "R1       1.452308  1        1.205118\n",
      "pT       3.730146  1        1.931359\n",
      "ypStage  4.695248  3        1.294026\n",
      "AGE      1.050999  1        1.025183\n",
      "total.LN 1.035339  1        1.017516\n",
      "Ptve_LN  1.415612  1        1.189795\n",
      "CEA      1.079665  1        1.039069\n",
      "preAlb   1.068323  1        1.033597\n",
      "preNEU   1.113300  1        1.055130\n",
      "preLYM   1.073133  1        1.035921\n",
      "postNEU  1.507040  1        1.227616\n",
      "postPLT  1.197952  1        1.094510\n",
      "postNLR  1.859504  1        1.363636\n",
      "postPLR  1.545548  1        1.243201"
     ]
    }
   ],
   "source": [
    "################################################################################\n",
    "# 선형회귀부석모델을 만든 후 VIF > 10 제거 \n",
    "################################################################################\n",
    "#     # 아래의 과정을 반복하여 VIF 10 이하로 만들어 줌\n",
    "#     # 이 데이터에서는 pN과 RES_G를 제거함\n",
    "################################################################################\n",
    "model = lm(RECUR ~ SSS+DRM+R1+pT+ypStage+AGE+total.LN+Ptve_LN+CEA+preAlb+preNEU+preLYM+postNEU+postPLT+postNLR+postPLR,data = dichotomized_data)\n",
    "colinearity_result<-car::vif(model)\n",
    "colinearity_result"
   ],
   "id": "f7d2788c-bd60-4ce2-bb41-54944e09061f"
  },
  {
   "cell_type": "markdown",
   "metadata": {},
   "source": [
    "**cox 다변량분석결과**"
   ],
   "id": "b039d9a6-1488-4499-83b2-d68f44dfbb98"
  },
  {
   "cell_type": "code",
   "execution_count": null,
   "metadata": {},
   "outputs": [
    {
     "output_type": "display_data",
     "metadata": {},
     "data": {
      "text/html": [
       "<div class=\"tabwid\"><style>.cl-f1d4ed98{}.cl-f1b5e5ec{font-family:'Arial';font-size:11pt;font-weight:normal;font-style:normal;text-decoration:none;color:rgba(0, 0, 0, 1.00);background-color:transparent;}.cl-f1b5e61e{font-family:'Arial';font-size:11pt;font-weight:bold;font-style:normal;text-decoration:none;color:rgba(0, 0, 0, 1.00);background-color:transparent;}.cl-f1b5e628{font-family:'Arial';font-size:6.6pt;font-weight:normal;font-style:normal;text-decoration:none;color:rgba(0, 0, 0, 1.00);background-color:transparent;position: relative;bottom:3.3pt;}.cl-f1c6bc14{margin:0;text-align:left;border-bottom: 0 solid rgba(0, 0, 0, 1.00);border-top: 0 solid rgba(0, 0, 0, 1.00);border-left: 0 solid rgba(0, 0, 0, 1.00);border-right: 0 solid rgba(0, 0, 0, 1.00);padding-bottom:2pt;padding-top:2pt;padding-left:5pt;padding-right:5pt;line-height: 1;background-color:transparent;}.cl-f1c6bc64{margin:0;text-align:center;border-bottom: 0 solid rgba(0, 0, 0, 1.00);border-top: 0 solid rgba(0, 0, 0, 1.00);border-left: 0 solid rgba(0, 0, 0, 1.00);border-right: 0 solid rgba(0, 0, 0, 1.00);padding-bottom:2pt;padding-top:2pt;padding-left:5pt;padding-right:5pt;line-height: 1;background-color:transparent;}.cl-f1c6bc82{margin:0;text-align:left;border-bottom: 0 solid rgba(0, 0, 0, 1.00);border-top: 0 solid rgba(0, 0, 0, 1.00);border-left: 0 solid rgba(0, 0, 0, 1.00);border-right: 0 solid rgba(0, 0, 0, 1.00);padding-bottom:5pt;padding-top:5pt;padding-left:5pt;padding-right:5pt;line-height: 1;background-color:transparent;}.cl-f1c6bca0{margin:0;text-align:center;border-bottom: 0 solid rgba(0, 0, 0, 1.00);border-top: 0 solid rgba(0, 0, 0, 1.00);border-left: 0 solid rgba(0, 0, 0, 1.00);border-right: 0 solid rgba(0, 0, 0, 1.00);padding-bottom:5pt;padding-top:5pt;padding-left:5pt;padding-right:5pt;line-height: 1;background-color:transparent;}.cl-f1c6bcaa{margin:0;text-align:left;border-bottom: 0 solid rgba(0, 0, 0, 1.00);border-top: 0 solid rgba(0, 0, 0, 1.00);border-left: 0 solid rgba(0, 0, 0, 1.00);border-right: 0 solid rgba(0, 0, 0, 1.00);padding-bottom:5pt;padding-top:5pt;padding-left:15pt;padding-right:5pt;line-height: 1;background-color:transparent;}.cl-f1c6bcbe{margin:0;text-align:left;border-bottom: 0 solid rgba(0, 0, 0, 1.00);border-top: 0 solid rgba(0, 0, 0, 1.00);border-left: 0 solid rgba(0, 0, 0, 1.00);border-right: 0 solid rgba(0, 0, 0, 1.00);padding-bottom:5pt;padding-top:5pt;padding-left:5pt;padding-right:5pt;line-height: 1;background-color:transparent;}.cl-f1c73658{width:1.304in;background-color:transparent;vertical-align: middle;border-bottom: 1pt solid rgba(0, 0, 0, 1.00);border-top: 1pt solid rgba(0, 0, 0, 1.00);border-left: 0 solid rgba(0, 0, 0, 1.00);border-right: 0 solid rgba(0, 0, 0, 1.00);margin-bottom:0;margin-top:0;margin-left:0;margin-right:0;}.cl-f1c7366c{width:0.583in;background-color:transparent;vertical-align: middle;border-bottom: 1pt solid rgba(0, 0, 0, 1.00);border-top: 1pt solid rgba(0, 0, 0, 1.00);border-left: 0 solid rgba(0, 0, 0, 1.00);border-right: 0 solid rgba(0, 0, 0, 1.00);margin-bottom:0;margin-top:0;margin-left:0;margin-right:0;}.cl-f1c73676{width:0.965in;background-color:transparent;vertical-align: middle;border-bottom: 1pt solid rgba(0, 0, 0, 1.00);border-top: 1pt solid rgba(0, 0, 0, 1.00);border-left: 0 solid rgba(0, 0, 0, 1.00);border-right: 0 solid rgba(0, 0, 0, 1.00);margin-bottom:0;margin-top:0;margin-left:0;margin-right:0;}.cl-f1c73680{width:0.82in;background-color:transparent;vertical-align: middle;border-bottom: 1pt solid rgba(0, 0, 0, 1.00);border-top: 1pt solid rgba(0, 0, 0, 1.00);border-left: 0 solid rgba(0, 0, 0, 1.00);border-right: 0 solid rgba(0, 0, 0, 1.00);margin-bottom:0;margin-top:0;margin-left:0;margin-right:0;}.cl-f1c73681{width:1.16in;background-color:transparent;vertical-align: middle;border-bottom: 1pt solid rgba(0, 0, 0, 1.00);border-top: 1pt solid rgba(0, 0, 0, 1.00);border-left: 0 solid rgba(0, 0, 0, 1.00);border-right: 0 solid rgba(0, 0, 0, 1.00);margin-bottom:0;margin-top:0;margin-left:0;margin-right:0;}.cl-f1c7368a{width:0.82in;background-color:transparent;vertical-align: middle;border-bottom: 1pt solid rgba(0, 0, 0, 1.00);border-top: 1pt solid rgba(0, 0, 0, 1.00);border-left: 0 solid rgba(0, 0, 0, 1.00);border-right: 0 solid rgba(0, 0, 0, 1.00);margin-bottom:0;margin-top:0;margin-left:0;margin-right:0;}.cl-f1c73694{width:1.304in;background-color:transparent;vertical-align: middle;border-bottom: 1pt solid rgba(0, 0, 0, 1.00);border-top: 1pt solid rgba(0, 0, 0, 1.00);border-left: 0 solid rgba(0, 0, 0, 1.00);border-right: 0 solid rgba(0, 0, 0, 1.00);margin-bottom:0;margin-top:0;margin-left:0;margin-right:0;}.cl-f1c73695{width:0.583in;background-color:transparent;vertical-align: middle;border-bottom: 1pt solid rgba(0, 0, 0, 1.00);border-top: 1pt solid rgba(0, 0, 0, 1.00);border-left: 0 solid rgba(0, 0, 0, 1.00);border-right: 0 solid rgba(0, 0, 0, 1.00);margin-bottom:0;margin-top:0;margin-left:0;margin-right:0;}.cl-f1c7369e{width:0.965in;background-color:transparent;vertical-align: middle;border-bottom: 1pt solid rgba(0, 0, 0, 1.00);border-top: 1pt solid rgba(0, 0, 0, 1.00);border-left: 0 solid rgba(0, 0, 0, 1.00);border-right: 0 solid rgba(0, 0, 0, 1.00);margin-bottom:0;margin-top:0;margin-left:0;margin-right:0;}.cl-f1c736a8{width:0.82in;background-color:transparent;vertical-align: middle;border-bottom: 1pt solid rgba(0, 0, 0, 1.00);border-top: 1pt solid rgba(0, 0, 0, 1.00);border-left: 0 solid rgba(0, 0, 0, 1.00);border-right: 0 solid rgba(0, 0, 0, 1.00);margin-bottom:0;margin-top:0;margin-left:0;margin-right:0;}.cl-f1c736b2{width:1.16in;background-color:transparent;vertical-align: middle;border-bottom: 1pt solid rgba(0, 0, 0, 1.00);border-top: 1pt solid rgba(0, 0, 0, 1.00);border-left: 0 solid rgba(0, 0, 0, 1.00);border-right: 0 solid rgba(0, 0, 0, 1.00);margin-bottom:0;margin-top:0;margin-left:0;margin-right:0;}.cl-f1c736b3{width:0.82in;background-color:transparent;vertical-align: middle;border-bottom: 1pt solid rgba(0, 0, 0, 1.00);border-top: 1pt solid rgba(0, 0, 0, 1.00);border-left: 0 solid rgba(0, 0, 0, 1.00);border-right: 0 solid rgba(0, 0, 0, 1.00);margin-bottom:0;margin-top:0;margin-left:0;margin-right:0;}.cl-f1c736b4{width:1.304in;background-color:transparent;vertical-align: top;border-bottom: 0 solid rgba(0, 0, 0, 1.00);border-top: 0 solid rgba(0, 0, 0, 1.00);border-left: 0 solid rgba(0, 0, 0, 1.00);border-right: 0 solid rgba(0, 0, 0, 1.00);margin-bottom:0;margin-top:0;margin-left:0;margin-right:0;}.cl-f1c736bc{width:0.583in;background-color:transparent;vertical-align: top;border-bottom: 0 solid rgba(0, 0, 0, 1.00);border-top: 0 solid rgba(0, 0, 0, 1.00);border-left: 0 solid rgba(0, 0, 0, 1.00);border-right: 0 solid rgba(0, 0, 0, 1.00);margin-bottom:0;margin-top:0;margin-left:0;margin-right:0;}.cl-f1c736c6{width:0.965in;background-color:transparent;vertical-align: top;border-bottom: 0 solid rgba(0, 0, 0, 1.00);border-top: 0 solid rgba(0, 0, 0, 1.00);border-left: 0 solid rgba(0, 0, 0, 1.00);border-right: 0 solid rgba(0, 0, 0, 1.00);margin-bottom:0;margin-top:0;margin-left:0;margin-right:0;}.cl-f1c736d0{width:0.82in;background-color:transparent;vertical-align: top;border-bottom: 0 solid rgba(0, 0, 0, 1.00);border-top: 0 solid rgba(0, 0, 0, 1.00);border-left: 0 solid rgba(0, 0, 0, 1.00);border-right: 0 solid rgba(0, 0, 0, 1.00);margin-bottom:0;margin-top:0;margin-left:0;margin-right:0;}.cl-f1c736da{width:1.16in;background-color:transparent;vertical-align: top;border-bottom: 0 solid rgba(0, 0, 0, 1.00);border-top: 0 solid rgba(0, 0, 0, 1.00);border-left: 0 solid rgba(0, 0, 0, 1.00);border-right: 0 solid rgba(0, 0, 0, 1.00);margin-bottom:0;margin-top:0;margin-left:0;margin-right:0;}.cl-f1c736db{width:0.82in;background-color:transparent;vertical-align: top;border-bottom: 0 solid rgba(0, 0, 0, 1.00);border-top: 0 solid rgba(0, 0, 0, 1.00);border-left: 0 solid rgba(0, 0, 0, 1.00);border-right: 0 solid rgba(0, 0, 0, 1.00);margin-bottom:0;margin-top:0;margin-left:0;margin-right:0;}.cl-f1c736e4{width:1.304in;background-color:transparent;vertical-align: top;border-bottom: 0 solid rgba(0, 0, 0, 1.00);border-top: 0 solid rgba(0, 0, 0, 1.00);border-left: 0 solid rgba(0, 0, 0, 1.00);border-right: 0 solid rgba(0, 0, 0, 1.00);margin-bottom:0;margin-top:0;margin-left:0;margin-right:0;}.cl-f1c736ee{width:0.583in;background-color:transparent;vertical-align: top;border-bottom: 0 solid rgba(0, 0, 0, 1.00);border-top: 0 solid rgba(0, 0, 0, 1.00);border-left: 0 solid rgba(0, 0, 0, 1.00);border-right: 0 solid rgba(0, 0, 0, 1.00);margin-bottom:0;margin-top:0;margin-left:0;margin-right:0;}.cl-f1c736ef{width:0.965in;background-color:transparent;vertical-align: top;border-bottom: 0 solid rgba(0, 0, 0, 1.00);border-top: 0 solid rgba(0, 0, 0, 1.00);border-left: 0 solid rgba(0, 0, 0, 1.00);border-right: 0 solid rgba(0, 0, 0, 1.00);margin-bottom:0;margin-top:0;margin-left:0;margin-right:0;}.cl-f1c736f0{width:0.82in;background-color:transparent;vertical-align: top;border-bottom: 0 solid rgba(0, 0, 0, 1.00);border-top: 0 solid rgba(0, 0, 0, 1.00);border-left: 0 solid rgba(0, 0, 0, 1.00);border-right: 0 solid rgba(0, 0, 0, 1.00);margin-bottom:0;margin-top:0;margin-left:0;margin-right:0;}.cl-f1c736f8{width:1.16in;background-color:transparent;vertical-align: top;border-bottom: 0 solid rgba(0, 0, 0, 1.00);border-top: 0 solid rgba(0, 0, 0, 1.00);border-left: 0 solid rgba(0, 0, 0, 1.00);border-right: 0 solid rgba(0, 0, 0, 1.00);margin-bottom:0;margin-top:0;margin-left:0;margin-right:0;}.cl-f1c73702{width:0.82in;background-color:transparent;vertical-align: top;border-bottom: 0 solid rgba(0, 0, 0, 1.00);border-top: 0 solid rgba(0, 0, 0, 1.00);border-left: 0 solid rgba(0, 0, 0, 1.00);border-right: 0 solid rgba(0, 0, 0, 1.00);margin-bottom:0;margin-top:0;margin-left:0;margin-right:0;}.cl-f1c73703{width:1.304in;background-color:transparent;vertical-align: top;border-bottom: 0 solid rgba(0, 0, 0, 1.00);border-top: 0 solid rgba(0, 0, 0, 1.00);border-left: 0 solid rgba(0, 0, 0, 1.00);border-right: 0 solid rgba(0, 0, 0, 1.00);margin-bottom:0;margin-top:0;margin-left:0;margin-right:0;}.cl-f1c7370c{width:0.583in;background-color:transparent;vertical-align: top;border-bottom: 0 solid rgba(0, 0, 0, 1.00);border-top: 0 solid rgba(0, 0, 0, 1.00);border-left: 0 solid rgba(0, 0, 0, 1.00);border-right: 0 solid rgba(0, 0, 0, 1.00);margin-bottom:0;margin-top:0;margin-left:0;margin-right:0;}.cl-f1c73716{width:0.965in;background-color:transparent;vertical-align: top;border-bottom: 0 solid rgba(0, 0, 0, 1.00);border-top: 0 solid rgba(0, 0, 0, 1.00);border-left: 0 solid rgba(0, 0, 0, 1.00);border-right: 0 solid rgba(0, 0, 0, 1.00);margin-bottom:0;margin-top:0;margin-left:0;margin-right:0;}.cl-f1c73717{width:0.82in;background-color:transparent;vertical-align: top;border-bottom: 0 solid rgba(0, 0, 0, 1.00);border-top: 0 solid rgba(0, 0, 0, 1.00);border-left: 0 solid rgba(0, 0, 0, 1.00);border-right: 0 solid rgba(0, 0, 0, 1.00);margin-bottom:0;margin-top:0;margin-left:0;margin-right:0;}.cl-f1c73720{width:1.16in;background-color:transparent;vertical-align: top;border-bottom: 0 solid rgba(0, 0, 0, 1.00);border-top: 0 solid rgba(0, 0, 0, 1.00);border-left: 0 solid rgba(0, 0, 0, 1.00);border-right: 0 solid rgba(0, 0, 0, 1.00);margin-bottom:0;margin-top:0;margin-left:0;margin-right:0;}.cl-f1c73721{width:0.82in;background-color:transparent;vertical-align: top;border-bottom: 0 solid rgba(0, 0, 0, 1.00);border-top: 0 solid rgba(0, 0, 0, 1.00);border-left: 0 solid rgba(0, 0, 0, 1.00);border-right: 0 solid rgba(0, 0, 0, 1.00);margin-bottom:0;margin-top:0;margin-left:0;margin-right:0;}.cl-f1c7372a{width:1.304in;background-color:transparent;vertical-align: top;border-bottom: 0 solid rgba(0, 0, 0, 1.00);border-top: 0 solid rgba(0, 0, 0, 1.00);border-left: 0 solid rgba(0, 0, 0, 1.00);border-right: 0 solid rgba(0, 0, 0, 1.00);margin-bottom:0;margin-top:0;margin-left:0;margin-right:0;}.cl-f1c73734{width:0.583in;background-color:transparent;vertical-align: top;border-bottom: 0 solid rgba(0, 0, 0, 1.00);border-top: 0 solid rgba(0, 0, 0, 1.00);border-left: 0 solid rgba(0, 0, 0, 1.00);border-right: 0 solid rgba(0, 0, 0, 1.00);margin-bottom:0;margin-top:0;margin-left:0;margin-right:0;}.cl-f1c73735{width:0.965in;background-color:transparent;vertical-align: top;border-bottom: 0 solid rgba(0, 0, 0, 1.00);border-top: 0 solid rgba(0, 0, 0, 1.00);border-left: 0 solid rgba(0, 0, 0, 1.00);border-right: 0 solid rgba(0, 0, 0, 1.00);margin-bottom:0;margin-top:0;margin-left:0;margin-right:0;}.cl-f1c7373e{width:0.82in;background-color:transparent;vertical-align: top;border-bottom: 0 solid rgba(0, 0, 0, 1.00);border-top: 0 solid rgba(0, 0, 0, 1.00);border-left: 0 solid rgba(0, 0, 0, 1.00);border-right: 0 solid rgba(0, 0, 0, 1.00);margin-bottom:0;margin-top:0;margin-left:0;margin-right:0;}.cl-f1c73748{width:1.16in;background-color:transparent;vertical-align: top;border-bottom: 0 solid rgba(0, 0, 0, 1.00);border-top: 0 solid rgba(0, 0, 0, 1.00);border-left: 0 solid rgba(0, 0, 0, 1.00);border-right: 0 solid rgba(0, 0, 0, 1.00);margin-bottom:0;margin-top:0;margin-left:0;margin-right:0;}.cl-f1c73749{width:0.82in;background-color:transparent;vertical-align: top;border-bottom: 0 solid rgba(0, 0, 0, 1.00);border-top: 0 solid rgba(0, 0, 0, 1.00);border-left: 0 solid rgba(0, 0, 0, 1.00);border-right: 0 solid rgba(0, 0, 0, 1.00);margin-bottom:0;margin-top:0;margin-left:0;margin-right:0;}.cl-f1c73752{width:1.304in;background-color:transparent;vertical-align: top;border-bottom: 0 solid rgba(0, 0, 0, 1.00);border-top: 0 solid rgba(0, 0, 0, 1.00);border-left: 0 solid rgba(0, 0, 0, 1.00);border-right: 0 solid rgba(0, 0, 0, 1.00);margin-bottom:0;margin-top:0;margin-left:0;margin-right:0;}.cl-f1c73753{width:0.583in;background-color:transparent;vertical-align: top;border-bottom: 0 solid rgba(0, 0, 0, 1.00);border-top: 0 solid rgba(0, 0, 0, 1.00);border-left: 0 solid rgba(0, 0, 0, 1.00);border-right: 0 solid rgba(0, 0, 0, 1.00);margin-bottom:0;margin-top:0;margin-left:0;margin-right:0;}.cl-f1c7375c{width:0.965in;background-color:transparent;vertical-align: top;border-bottom: 0 solid rgba(0, 0, 0, 1.00);border-top: 0 solid rgba(0, 0, 0, 1.00);border-left: 0 solid rgba(0, 0, 0, 1.00);border-right: 0 solid rgba(0, 0, 0, 1.00);margin-bottom:0;margin-top:0;margin-left:0;margin-right:0;}.cl-f1c73766{width:0.82in;background-color:transparent;vertical-align: top;border-bottom: 0 solid rgba(0, 0, 0, 1.00);border-top: 0 solid rgba(0, 0, 0, 1.00);border-left: 0 solid rgba(0, 0, 0, 1.00);border-right: 0 solid rgba(0, 0, 0, 1.00);margin-bottom:0;margin-top:0;margin-left:0;margin-right:0;}.cl-f1c73767{width:1.16in;background-color:transparent;vertical-align: top;border-bottom: 0 solid rgba(0, 0, 0, 1.00);border-top: 0 solid rgba(0, 0, 0, 1.00);border-left: 0 solid rgba(0, 0, 0, 1.00);border-right: 0 solid rgba(0, 0, 0, 1.00);margin-bottom:0;margin-top:0;margin-left:0;margin-right:0;}.cl-f1c73770{width:0.82in;background-color:transparent;vertical-align: top;border-bottom: 0 solid rgba(0, 0, 0, 1.00);border-top: 0 solid rgba(0, 0, 0, 1.00);border-left: 0 solid rgba(0, 0, 0, 1.00);border-right: 0 solid rgba(0, 0, 0, 1.00);margin-bottom:0;margin-top:0;margin-left:0;margin-right:0;}.cl-f1c7377a{width:1.304in;background-color:transparent;vertical-align: top;border-bottom: 0 solid rgba(0, 0, 0, 1.00);border-top: 0 solid rgba(0, 0, 0, 1.00);border-left: 0 solid rgba(0, 0, 0, 1.00);border-right: 0 solid rgba(0, 0, 0, 1.00);margin-bottom:0;margin-top:0;margin-left:0;margin-right:0;}.cl-f1c73784{width:0.583in;background-color:transparent;vertical-align: top;border-bottom: 0 solid rgba(0, 0, 0, 1.00);border-top: 0 solid rgba(0, 0, 0, 1.00);border-left: 0 solid rgba(0, 0, 0, 1.00);border-right: 0 solid rgba(0, 0, 0, 1.00);margin-bottom:0;margin-top:0;margin-left:0;margin-right:0;}.cl-f1c73785{width:0.965in;background-color:transparent;vertical-align: top;border-bottom: 0 solid rgba(0, 0, 0, 1.00);border-top: 0 solid rgba(0, 0, 0, 1.00);border-left: 0 solid rgba(0, 0, 0, 1.00);border-right: 0 solid rgba(0, 0, 0, 1.00);margin-bottom:0;margin-top:0;margin-left:0;margin-right:0;}.cl-f1c7378e{width:0.82in;background-color:transparent;vertical-align: top;border-bottom: 0 solid rgba(0, 0, 0, 1.00);border-top: 0 solid rgba(0, 0, 0, 1.00);border-left: 0 solid rgba(0, 0, 0, 1.00);border-right: 0 solid rgba(0, 0, 0, 1.00);margin-bottom:0;margin-top:0;margin-left:0;margin-right:0;}.cl-f1c73798{width:1.16in;background-color:transparent;vertical-align: top;border-bottom: 0 solid rgba(0, 0, 0, 1.00);border-top: 0 solid rgba(0, 0, 0, 1.00);border-left: 0 solid rgba(0, 0, 0, 1.00);border-right: 0 solid rgba(0, 0, 0, 1.00);margin-bottom:0;margin-top:0;margin-left:0;margin-right:0;}.cl-f1c73799{width:0.82in;background-color:transparent;vertical-align: top;border-bottom: 0 solid rgba(0, 0, 0, 1.00);border-top: 0 solid rgba(0, 0, 0, 1.00);border-left: 0 solid rgba(0, 0, 0, 1.00);border-right: 0 solid rgba(0, 0, 0, 1.00);margin-bottom:0;margin-top:0;margin-left:0;margin-right:0;}.cl-f1c737a2{width:1.304in;background-color:transparent;vertical-align: top;border-bottom: 0 solid rgba(0, 0, 0, 1.00);border-top: 0 solid rgba(0, 0, 0, 1.00);border-left: 0 solid rgba(0, 0, 0, 1.00);border-right: 0 solid rgba(0, 0, 0, 1.00);margin-bottom:0;margin-top:0;margin-left:0;margin-right:0;}.cl-f1c737a3{width:0.583in;background-color:transparent;vertical-align: top;border-bottom: 0 solid rgba(0, 0, 0, 1.00);border-top: 0 solid rgba(0, 0, 0, 1.00);border-left: 0 solid rgba(0, 0, 0, 1.00);border-right: 0 solid rgba(0, 0, 0, 1.00);margin-bottom:0;margin-top:0;margin-left:0;margin-right:0;}.cl-f1c737ac{width:0.965in;background-color:transparent;vertical-align: top;border-bottom: 0 solid rgba(0, 0, 0, 1.00);border-top: 0 solid rgba(0, 0, 0, 1.00);border-left: 0 solid rgba(0, 0, 0, 1.00);border-right: 0 solid rgba(0, 0, 0, 1.00);margin-bottom:0;margin-top:0;margin-left:0;margin-right:0;}.cl-f1c737ad{width:0.82in;background-color:transparent;vertical-align: top;border-bottom: 0 solid rgba(0, 0, 0, 1.00);border-top: 0 solid rgba(0, 0, 0, 1.00);border-left: 0 solid rgba(0, 0, 0, 1.00);border-right: 0 solid rgba(0, 0, 0, 1.00);margin-bottom:0;margin-top:0;margin-left:0;margin-right:0;}.cl-f1c737b6{width:1.16in;background-color:transparent;vertical-align: top;border-bottom: 0 solid rgba(0, 0, 0, 1.00);border-top: 0 solid rgba(0, 0, 0, 1.00);border-left: 0 solid rgba(0, 0, 0, 1.00);border-right: 0 solid rgba(0, 0, 0, 1.00);margin-bottom:0;margin-top:0;margin-left:0;margin-right:0;}.cl-f1c737b7{width:0.82in;background-color:transparent;vertical-align: top;border-bottom: 0 solid rgba(0, 0, 0, 1.00);border-top: 0 solid rgba(0, 0, 0, 1.00);border-left: 0 solid rgba(0, 0, 0, 1.00);border-right: 0 solid rgba(0, 0, 0, 1.00);margin-bottom:0;margin-top:0;margin-left:0;margin-right:0;}.cl-f1c737c0{width:1.304in;background-color:transparent;vertical-align: top;border-bottom: 0 solid rgba(0, 0, 0, 1.00);border-top: 0 solid rgba(0, 0, 0, 1.00);border-left: 0 solid rgba(0, 0, 0, 1.00);border-right: 0 solid rgba(0, 0, 0, 1.00);margin-bottom:0;margin-top:0;margin-left:0;margin-right:0;}.cl-f1c737c1{width:0.583in;background-color:transparent;vertical-align: top;border-bottom: 0 solid rgba(0, 0, 0, 1.00);border-top: 0 solid rgba(0, 0, 0, 1.00);border-left: 0 solid rgba(0, 0, 0, 1.00);border-right: 0 solid rgba(0, 0, 0, 1.00);margin-bottom:0;margin-top:0;margin-left:0;margin-right:0;}.cl-f1c737ca{width:0.965in;background-color:transparent;vertical-align: top;border-bottom: 0 solid rgba(0, 0, 0, 1.00);border-top: 0 solid rgba(0, 0, 0, 1.00);border-left: 0 solid rgba(0, 0, 0, 1.00);border-right: 0 solid rgba(0, 0, 0, 1.00);margin-bottom:0;margin-top:0;margin-left:0;margin-right:0;}.cl-f1c737d4{width:0.82in;background-color:transparent;vertical-align: top;border-bottom: 0 solid rgba(0, 0, 0, 1.00);border-top: 0 solid rgba(0, 0, 0, 1.00);border-left: 0 solid rgba(0, 0, 0, 1.00);border-right: 0 solid rgba(0, 0, 0, 1.00);margin-bottom:0;margin-top:0;margin-left:0;margin-right:0;}.cl-f1c737d5{width:1.16in;background-color:transparent;vertical-align: top;border-bottom: 0 solid rgba(0, 0, 0, 1.00);border-top: 0 solid rgba(0, 0, 0, 1.00);border-left: 0 solid rgba(0, 0, 0, 1.00);border-right: 0 solid rgba(0, 0, 0, 1.00);margin-bottom:0;margin-top:0;margin-left:0;margin-right:0;}.cl-f1c737d6{width:0.82in;background-color:transparent;vertical-align: top;border-bottom: 0 solid rgba(0, 0, 0, 1.00);border-top: 0 solid rgba(0, 0, 0, 1.00);border-left: 0 solid rgba(0, 0, 0, 1.00);border-right: 0 solid rgba(0, 0, 0, 1.00);margin-bottom:0;margin-top:0;margin-left:0;margin-right:0;}.cl-f1c737de{width:1.304in;background-color:transparent;vertical-align: top;border-bottom: 0 solid rgba(0, 0, 0, 1.00);border-top: 0 solid rgba(0, 0, 0, 1.00);border-left: 0 solid rgba(0, 0, 0, 1.00);border-right: 0 solid rgba(0, 0, 0, 1.00);margin-bottom:0;margin-top:0;margin-left:0;margin-right:0;}.cl-f1c737e8{width:0.583in;background-color:transparent;vertical-align: top;border-bottom: 0 solid rgba(0, 0, 0, 1.00);border-top: 0 solid rgba(0, 0, 0, 1.00);border-left: 0 solid rgba(0, 0, 0, 1.00);border-right: 0 solid rgba(0, 0, 0, 1.00);margin-bottom:0;margin-top:0;margin-left:0;margin-right:0;}.cl-f1c737e9{width:0.965in;background-color:transparent;vertical-align: top;border-bottom: 0 solid rgba(0, 0, 0, 1.00);border-top: 0 solid rgba(0, 0, 0, 1.00);border-left: 0 solid rgba(0, 0, 0, 1.00);border-right: 0 solid rgba(0, 0, 0, 1.00);margin-bottom:0;margin-top:0;margin-left:0;margin-right:0;}.cl-f1c737f2{width:0.82in;background-color:transparent;vertical-align: top;border-bottom: 0 solid rgba(0, 0, 0, 1.00);border-top: 0 solid rgba(0, 0, 0, 1.00);border-left: 0 solid rgba(0, 0, 0, 1.00);border-right: 0 solid rgba(0, 0, 0, 1.00);margin-bottom:0;margin-top:0;margin-left:0;margin-right:0;}.cl-f1c737f3{width:1.16in;background-color:transparent;vertical-align: top;border-bottom: 0 solid rgba(0, 0, 0, 1.00);border-top: 0 solid rgba(0, 0, 0, 1.00);border-left: 0 solid rgba(0, 0, 0, 1.00);border-right: 0 solid rgba(0, 0, 0, 1.00);margin-bottom:0;margin-top:0;margin-left:0;margin-right:0;}.cl-f1c737fc{width:0.82in;background-color:transparent;vertical-align: top;border-bottom: 0 solid rgba(0, 0, 0, 1.00);border-top: 0 solid rgba(0, 0, 0, 1.00);border-left: 0 solid rgba(0, 0, 0, 1.00);border-right: 0 solid rgba(0, 0, 0, 1.00);margin-bottom:0;margin-top:0;margin-left:0;margin-right:0;}.cl-f1c737fd{width:1.304in;background-color:transparent;vertical-align: top;border-bottom: 0 solid rgba(0, 0, 0, 1.00);border-top: 0 solid rgba(0, 0, 0, 1.00);border-left: 0 solid rgba(0, 0, 0, 1.00);border-right: 0 solid rgba(0, 0, 0, 1.00);margin-bottom:0;margin-top:0;margin-left:0;margin-right:0;}.cl-f1c73806{width:0.583in;background-color:transparent;vertical-align: top;border-bottom: 0 solid rgba(0, 0, 0, 1.00);border-top: 0 solid rgba(0, 0, 0, 1.00);border-left: 0 solid rgba(0, 0, 0, 1.00);border-right: 0 solid rgba(0, 0, 0, 1.00);margin-bottom:0;margin-top:0;margin-left:0;margin-right:0;}.cl-f1c73807{width:0.965in;background-color:transparent;vertical-align: top;border-bottom: 0 solid rgba(0, 0, 0, 1.00);border-top: 0 solid rgba(0, 0, 0, 1.00);border-left: 0 solid rgba(0, 0, 0, 1.00);border-right: 0 solid rgba(0, 0, 0, 1.00);margin-bottom:0;margin-top:0;margin-left:0;margin-right:0;}.cl-f1c73810{width:0.82in;background-color:transparent;vertical-align: top;border-bottom: 0 solid rgba(0, 0, 0, 1.00);border-top: 0 solid rgba(0, 0, 0, 1.00);border-left: 0 solid rgba(0, 0, 0, 1.00);border-right: 0 solid rgba(0, 0, 0, 1.00);margin-bottom:0;margin-top:0;margin-left:0;margin-right:0;}.cl-f1c7381a{width:1.16in;background-color:transparent;vertical-align: top;border-bottom: 0 solid rgba(0, 0, 0, 1.00);border-top: 0 solid rgba(0, 0, 0, 1.00);border-left: 0 solid rgba(0, 0, 0, 1.00);border-right: 0 solid rgba(0, 0, 0, 1.00);margin-bottom:0;margin-top:0;margin-left:0;margin-right:0;}.cl-f1c7381b{width:0.82in;background-color:transparent;vertical-align: top;border-bottom: 0 solid rgba(0, 0, 0, 1.00);border-top: 0 solid rgba(0, 0, 0, 1.00);border-left: 0 solid rgba(0, 0, 0, 1.00);border-right: 0 solid rgba(0, 0, 0, 1.00);margin-bottom:0;margin-top:0;margin-left:0;margin-right:0;}.cl-f1c73824{width:1.304in;background-color:transparent;vertical-align: top;border-bottom: 1pt solid rgba(0, 0, 0, 1.00);border-top: 0 solid rgba(0, 0, 0, 1.00);border-left: 0 solid rgba(0, 0, 0, 1.00);border-right: 0 solid rgba(0, 0, 0, 1.00);margin-bottom:0;margin-top:0;margin-left:0;margin-right:0;}.cl-f1c73825{width:0.583in;background-color:transparent;vertical-align: top;border-bottom: 1pt solid rgba(0, 0, 0, 1.00);border-top: 0 solid rgba(0, 0, 0, 1.00);border-left: 0 solid rgba(0, 0, 0, 1.00);border-right: 0 solid rgba(0, 0, 0, 1.00);margin-bottom:0;margin-top:0;margin-left:0;margin-right:0;}.cl-f1c7382e{width:0.965in;background-color:transparent;vertical-align: top;border-bottom: 1pt solid rgba(0, 0, 0, 1.00);border-top: 0 solid rgba(0, 0, 0, 1.00);border-left: 0 solid rgba(0, 0, 0, 1.00);border-right: 0 solid rgba(0, 0, 0, 1.00);margin-bottom:0;margin-top:0;margin-left:0;margin-right:0;}.cl-f1c7382f{width:0.82in;background-color:transparent;vertical-align: top;border-bottom: 1pt solid rgba(0, 0, 0, 1.00);border-top: 0 solid rgba(0, 0, 0, 1.00);border-left: 0 solid rgba(0, 0, 0, 1.00);border-right: 0 solid rgba(0, 0, 0, 1.00);margin-bottom:0;margin-top:0;margin-left:0;margin-right:0;}.cl-f1c73838{width:1.16in;background-color:transparent;vertical-align: top;border-bottom: 1pt solid rgba(0, 0, 0, 1.00);border-top: 0 solid rgba(0, 0, 0, 1.00);border-left: 0 solid rgba(0, 0, 0, 1.00);border-right: 0 solid rgba(0, 0, 0, 1.00);margin-bottom:0;margin-top:0;margin-left:0;margin-right:0;}.cl-f1c73839{width:0.82in;background-color:transparent;vertical-align: top;border-bottom: 1pt solid rgba(0, 0, 0, 1.00);border-top: 0 solid rgba(0, 0, 0, 1.00);border-left: 0 solid rgba(0, 0, 0, 1.00);border-right: 0 solid rgba(0, 0, 0, 1.00);margin-bottom:0;margin-top:0;margin-left:0;margin-right:0;}.cl-f1c73842{width:1.304in;background-color:transparent;vertical-align: middle;border-bottom: 0 solid rgba(255, 255, 255, 0.00);border-top: 0 solid rgba(255, 255, 255, 0.00);border-left: 0 solid rgba(255, 255, 255, 0.00);border-right: 0 solid rgba(255, 255, 255, 0.00);margin-bottom:0;margin-top:0;margin-left:0;margin-right:0;}.cl-f1c7384c{width:0.583in;background-color:transparent;vertical-align: middle;border-bottom: 0 solid rgba(255, 255, 255, 0.00);border-top: 0 solid rgba(255, 255, 255, 0.00);border-left: 0 solid rgba(255, 255, 255, 0.00);border-right: 0 solid rgba(255, 255, 255, 0.00);margin-bottom:0;margin-top:0;margin-left:0;margin-right:0;}.cl-f1c7384d{width:0.965in;background-color:transparent;vertical-align: middle;border-bottom: 0 solid rgba(255, 255, 255, 0.00);border-top: 0 solid rgba(255, 255, 255, 0.00);border-left: 0 solid rgba(255, 255, 255, 0.00);border-right: 0 solid rgba(255, 255, 255, 0.00);margin-bottom:0;margin-top:0;margin-left:0;margin-right:0;}.cl-f1c73856{width:0.82in;background-color:transparent;vertical-align: middle;border-bottom: 0 solid rgba(255, 255, 255, 0.00);border-top: 0 solid rgba(255, 255, 255, 0.00);border-left: 0 solid rgba(255, 255, 255, 0.00);border-right: 0 solid rgba(255, 255, 255, 0.00);margin-bottom:0;margin-top:0;margin-left:0;margin-right:0;}.cl-f1c73857{width:1.16in;background-color:transparent;vertical-align: middle;border-bottom: 0 solid rgba(255, 255, 255, 0.00);border-top: 0 solid rgba(255, 255, 255, 0.00);border-left: 0 solid rgba(255, 255, 255, 0.00);border-right: 0 solid rgba(255, 255, 255, 0.00);margin-bottom:0;margin-top:0;margin-left:0;margin-right:0;}.cl-f1c73860{width:0.82in;background-color:transparent;vertical-align: middle;border-bottom: 0 solid rgba(255, 255, 255, 0.00);border-top: 0 solid rgba(255, 255, 255, 0.00);border-left: 0 solid rgba(255, 255, 255, 0.00);border-right: 0 solid rgba(255, 255, 255, 0.00);margin-bottom:0;margin-top:0;margin-left:0;margin-right:0;}</style><table data-quarto-disable-processing='true' class='cl-f1d4ed98'><thead><tr style=\"overflow-wrap:break-word;\"><th class=\"cl-f1c73658\"><p class=\"cl-f1c6bc14\"><span class=\"cl-f1b5e5ec\"> </span></p></th><th  colspan=\"3\"class=\"cl-f1c7366c\"><p class=\"cl-f1c6bc64\"><span class=\"cl-f1b5e61e\">Univariable</span></p></th><th  colspan=\"2\"class=\"cl-f1c73681\"><p class=\"cl-f1c6bc64\"><span class=\"cl-f1b5e61e\">Multivariable</span></p></th></tr><tr style=\"overflow-wrap:break-word;\"><th class=\"cl-f1c73694\"><p class=\"cl-f1c6bc14\"><span class=\"cl-f1b5e61e\">Characteristic</span></p></th><th class=\"cl-f1c73695\"><p class=\"cl-f1c6bc64\"><span class=\"cl-f1b5e61e\">HR</span><span class=\"cl-f1b5e628\">1</span></p></th><th class=\"cl-f1c7369e\"><p class=\"cl-f1c6bc64\"><span class=\"cl-f1b5e61e\">95% CI</span><span class=\"cl-f1b5e628\">1</span></p></th><th class=\"cl-f1c736a8\"><p class=\"cl-f1c6bc64\"><span class=\"cl-f1b5e61e\">p-value</span></p></th><th class=\"cl-f1c736b2\"><p class=\"cl-f1c6bc64\"><span class=\"cl-f1b5e61e\">OR (95% CI)</span><span class=\"cl-f1b5e628\">1</span></p></th><th class=\"cl-f1c736b3\"><p class=\"cl-f1c6bc64\"><span class=\"cl-f1b5e61e\">P value</span></p></th></tr></thead><tbody><tr style=\"overflow-wrap:break-word;\"><td class=\"cl-f1c736b4\"><p class=\"cl-f1c6bc82\"><span class=\"cl-f1b5e5ec\">SSS</span></p></td><td class=\"cl-f1c736bc\"><p class=\"cl-f1c6bca0\"><span class=\"cl-f1b5e5ec\"></span></p></td><td class=\"cl-f1c736c6\"><p class=\"cl-f1c6bca0\"><span class=\"cl-f1b5e5ec\"></span></p></td><td class=\"cl-f1c736d0\"><p class=\"cl-f1c6bca0\"><span class=\"cl-f1b5e5ec\"></span></p></td><td class=\"cl-f1c736da\"><p class=\"cl-f1c6bca0\"><span class=\"cl-f1b5e5ec\"></span></p></td><td class=\"cl-f1c736db\"><p class=\"cl-f1c6bca0\"><span class=\"cl-f1b5e5ec\"></span></p></td></tr><tr style=\"overflow-wrap:break-word;\"><td class=\"cl-f1c736e4\"><p class=\"cl-f1c6bcaa\"><span class=\"cl-f1b5e5ec\">No</span></p></td><td class=\"cl-f1c736ee\"><p class=\"cl-f1c6bca0\"><span class=\"cl-f1b5e5ec\">—</span></p></td><td class=\"cl-f1c736ef\"><p class=\"cl-f1c6bca0\"><span class=\"cl-f1b5e5ec\">—</span></p></td><td class=\"cl-f1c736f0\"><p class=\"cl-f1c6bca0\"><span class=\"cl-f1b5e5ec\"></span></p></td><td class=\"cl-f1c736f8\"><p class=\"cl-f1c6bca0\"><span class=\"cl-f1b5e5ec\">—</span></p></td><td class=\"cl-f1c73702\"><p class=\"cl-f1c6bca0\"><span class=\"cl-f1b5e5ec\"></span></p></td></tr><tr style=\"overflow-wrap:break-word;\"><td class=\"cl-f1c73703\"><p class=\"cl-f1c6bcaa\"><span class=\"cl-f1b5e5ec\">Yes</span></p></td><td class=\"cl-f1c7370c\"><p class=\"cl-f1c6bca0\"><span class=\"cl-f1b5e5ec\">0.60</span></p></td><td class=\"cl-f1c73716\"><p class=\"cl-f1c6bca0\"><span class=\"cl-f1b5e5ec\">0.41, 0.89</span></p></td><td class=\"cl-f1c73717\"><p class=\"cl-f1c6bca0\"><span class=\"cl-f1b5e5ec\">0.012</span></p></td><td class=\"cl-f1c73720\"><p class=\"cl-f1c6bca0\"><span class=\"cl-f1b5e5ec\">0.74</span></p></td><td class=\"cl-f1c73721\"><p class=\"cl-f1c6bca0\"><span class=\"cl-f1b5e5ec\">0.150</span></p></td></tr><tr style=\"overflow-wrap:break-word;\"><td class=\"cl-f1c7372a\"><p class=\"cl-f1c6bc82\"><span class=\"cl-f1b5e5ec\">DRM</span></p></td><td class=\"cl-f1c73734\"><p class=\"cl-f1c6bca0\"><span class=\"cl-f1b5e5ec\"></span></p></td><td class=\"cl-f1c73735\"><p class=\"cl-f1c6bca0\"><span class=\"cl-f1b5e5ec\"></span></p></td><td class=\"cl-f1c7373e\"><p class=\"cl-f1c6bca0\"><span class=\"cl-f1b5e5ec\"></span></p></td><td class=\"cl-f1c73748\"><p class=\"cl-f1c6bca0\"><span class=\"cl-f1b5e5ec\"></span></p></td><td class=\"cl-f1c73749\"><p class=\"cl-f1c6bca0\"><span class=\"cl-f1b5e5ec\"></span></p></td></tr><tr style=\"overflow-wrap:break-word;\"><td class=\"cl-f1c73752\"><p class=\"cl-f1c6bcaa\"><span class=\"cl-f1b5e5ec\">Negative</span></p></td><td class=\"cl-f1c73753\"><p class=\"cl-f1c6bca0\"><span class=\"cl-f1b5e5ec\">—</span></p></td><td class=\"cl-f1c7375c\"><p class=\"cl-f1c6bca0\"><span class=\"cl-f1b5e5ec\">—</span></p></td><td class=\"cl-f1c73766\"><p class=\"cl-f1c6bca0\"><span class=\"cl-f1b5e5ec\"></span></p></td><td class=\"cl-f1c73767\"><p class=\"cl-f1c6bca0\"><span class=\"cl-f1b5e5ec\">—</span></p></td><td class=\"cl-f1c73770\"><p class=\"cl-f1c6bca0\"><span class=\"cl-f1b5e5ec\"></span></p></td></tr><tr style=\"overflow-wrap:break-word;\"><td class=\"cl-f1c73703\"><p class=\"cl-f1c6bcaa\"><span class=\"cl-f1b5e5ec\">Positive</span></p></td><td class=\"cl-f1c7370c\"><p class=\"cl-f1c6bca0\"><span class=\"cl-f1b5e5ec\">4.64</span></p></td><td class=\"cl-f1c73716\"><p class=\"cl-f1c6bca0\"><span class=\"cl-f1b5e5ec\">1.14, 18.8</span></p></td><td class=\"cl-f1c73717\"><p class=\"cl-f1c6bca0\"><span class=\"cl-f1b5e5ec\">0.032</span></p></td><td class=\"cl-f1c73720\"><p class=\"cl-f1c6bca0\"><span class=\"cl-f1b5e5ec\">6.98*</span></p></td><td class=\"cl-f1c73721\"><p class=\"cl-f1c6bca0\"><span class=\"cl-f1b5e61e\">0.048</span></p></td></tr><tr style=\"overflow-wrap:break-word;\"><td class=\"cl-f1c7377a\"><p class=\"cl-f1c6bc82\"><span class=\"cl-f1b5e5ec\">R1</span></p></td><td class=\"cl-f1c73784\"><p class=\"cl-f1c6bca0\"><span class=\"cl-f1b5e5ec\"></span></p></td><td class=\"cl-f1c73785\"><p class=\"cl-f1c6bca0\"><span class=\"cl-f1b5e5ec\"></span></p></td><td class=\"cl-f1c7378e\"><p class=\"cl-f1c6bca0\"><span class=\"cl-f1b5e5ec\"></span></p></td><td class=\"cl-f1c73798\"><p class=\"cl-f1c6bca0\"><span class=\"cl-f1b5e5ec\"></span></p></td><td class=\"cl-f1c73799\"><p class=\"cl-f1c6bca0\"><span class=\"cl-f1b5e5ec\"></span></p></td></tr><tr style=\"overflow-wrap:break-word;\"><td class=\"cl-f1c737a2\"><p class=\"cl-f1c6bcaa\"><span class=\"cl-f1b5e5ec\">0</span></p></td><td class=\"cl-f1c737a3\"><p class=\"cl-f1c6bca0\"><span class=\"cl-f1b5e5ec\">—</span></p></td><td class=\"cl-f1c737ac\"><p class=\"cl-f1c6bca0\"><span class=\"cl-f1b5e5ec\">—</span></p></td><td class=\"cl-f1c737ad\"><p class=\"cl-f1c6bca0\"><span class=\"cl-f1b5e5ec\"></span></p></td><td class=\"cl-f1c737b6\"><p class=\"cl-f1c6bca0\"><span class=\"cl-f1b5e5ec\">—</span></p></td><td class=\"cl-f1c737b7\"><p class=\"cl-f1c6bca0\"><span class=\"cl-f1b5e5ec\"></span></p></td></tr><tr style=\"overflow-wrap:break-word;\"><td class=\"cl-f1c73703\"><p class=\"cl-f1c6bcaa\"><span class=\"cl-f1b5e5ec\">1</span></p></td><td class=\"cl-f1c7370c\"><p class=\"cl-f1c6bca0\"><span class=\"cl-f1b5e5ec\">2.53</span></p></td><td class=\"cl-f1c73716\"><p class=\"cl-f1c6bca0\"><span class=\"cl-f1b5e5ec\">1.03, 6.19</span></p></td><td class=\"cl-f1c73717\"><p class=\"cl-f1c6bca0\"><span class=\"cl-f1b5e5ec\">0.043</span></p></td><td class=\"cl-f1c73720\"><p class=\"cl-f1c6bca0\"><span class=\"cl-f1b5e5ec\">0.96</span></p></td><td class=\"cl-f1c73721\"><p class=\"cl-f1c6bca0\"><span class=\"cl-f1b5e5ec\">0.942</span></p></td></tr><tr style=\"overflow-wrap:break-word;\"><td class=\"cl-f1c737c0\"><p class=\"cl-f1c6bc82\"><span class=\"cl-f1b5e5ec\">pT</span></p></td><td class=\"cl-f1c737c1\"><p class=\"cl-f1c6bca0\"><span class=\"cl-f1b5e5ec\"></span></p></td><td class=\"cl-f1c737ca\"><p class=\"cl-f1c6bca0\"><span class=\"cl-f1b5e5ec\"></span></p></td><td class=\"cl-f1c737d4\"><p class=\"cl-f1c6bca0\"><span class=\"cl-f1b5e5ec\"></span></p></td><td class=\"cl-f1c737d5\"><p class=\"cl-f1c6bca0\"><span class=\"cl-f1b5e5ec\"></span></p></td><td class=\"cl-f1c737d6\"><p class=\"cl-f1c6bca0\"><span class=\"cl-f1b5e5ec\"></span></p></td></tr><tr style=\"overflow-wrap:break-word;\"><td class=\"cl-f1c736b4\"><p class=\"cl-f1c6bcaa\"><span class=\"cl-f1b5e5ec\">0/1/2</span></p></td><td class=\"cl-f1c736bc\"><p class=\"cl-f1c6bca0\"><span class=\"cl-f1b5e5ec\">—</span></p></td><td class=\"cl-f1c736c6\"><p class=\"cl-f1c6bca0\"><span class=\"cl-f1b5e5ec\">—</span></p></td><td class=\"cl-f1c736d0\"><p class=\"cl-f1c6bca0\"><span class=\"cl-f1b5e5ec\"></span></p></td><td class=\"cl-f1c736da\"><p class=\"cl-f1c6bca0\"><span class=\"cl-f1b5e5ec\">—</span></p></td><td class=\"cl-f1c736db\"><p class=\"cl-f1c6bca0\"><span class=\"cl-f1b5e5ec\"></span></p></td></tr><tr style=\"overflow-wrap:break-word;\"><td class=\"cl-f1c73703\"><p class=\"cl-f1c6bcaa\"><span class=\"cl-f1b5e5ec\">3/4</span></p></td><td class=\"cl-f1c7370c\"><p class=\"cl-f1c6bca0\"><span class=\"cl-f1b5e5ec\">3.74</span></p></td><td class=\"cl-f1c73716\"><p class=\"cl-f1c6bca0\"><span class=\"cl-f1b5e5ec\">2.46, 5.68</span></p></td><td class=\"cl-f1c73717\"><p class=\"cl-f1c6bca0\"><span class=\"cl-f1b5e5ec\">&lt;0.001</span></p></td><td class=\"cl-f1c73720\"><p class=\"cl-f1c6bca0\"><span class=\"cl-f1b5e5ec\">1.95</span></p></td><td class=\"cl-f1c73721\"><p class=\"cl-f1c6bca0\"><span class=\"cl-f1b5e5ec\">0.051</span></p></td></tr><tr style=\"overflow-wrap:break-word;\"><td class=\"cl-f1c737de\"><p class=\"cl-f1c6bc82\"><span class=\"cl-f1b5e5ec\">ypStage</span></p></td><td class=\"cl-f1c737e8\"><p class=\"cl-f1c6bca0\"><span class=\"cl-f1b5e5ec\"></span></p></td><td class=\"cl-f1c737e9\"><p class=\"cl-f1c6bca0\"><span class=\"cl-f1b5e5ec\"></span></p></td><td class=\"cl-f1c737f2\"><p class=\"cl-f1c6bca0\"><span class=\"cl-f1b5e5ec\"></span></p></td><td class=\"cl-f1c737f3\"><p class=\"cl-f1c6bca0\"><span class=\"cl-f1b5e5ec\"></span></p></td><td class=\"cl-f1c737fc\"><p class=\"cl-f1c6bca0\"><span class=\"cl-f1b5e5ec\"></span></p></td></tr><tr style=\"overflow-wrap:break-word;\"><td class=\"cl-f1c737a2\"><p class=\"cl-f1c6bcaa\"><span class=\"cl-f1b5e5ec\">0</span></p></td><td class=\"cl-f1c737a3\"><p class=\"cl-f1c6bca0\"><span class=\"cl-f1b5e5ec\">—</span></p></td><td class=\"cl-f1c737ac\"><p class=\"cl-f1c6bca0\"><span class=\"cl-f1b5e5ec\">—</span></p></td><td class=\"cl-f1c737ad\"><p class=\"cl-f1c6bca0\"><span class=\"cl-f1b5e5ec\"></span></p></td><td class=\"cl-f1c737b6\"><p class=\"cl-f1c6bca0\"><span class=\"cl-f1b5e5ec\">—</span></p></td><td class=\"cl-f1c737b7\"><p class=\"cl-f1c6bca0\"><span class=\"cl-f1b5e5ec\"></span></p></td></tr><tr style=\"overflow-wrap:break-word;\"><td class=\"cl-f1c73703\"><p class=\"cl-f1c6bcaa\"><span class=\"cl-f1b5e5ec\">1</span></p></td><td class=\"cl-f1c7370c\"><p class=\"cl-f1c6bca0\"><span class=\"cl-f1b5e5ec\">2.31</span></p></td><td class=\"cl-f1c73716\"><p class=\"cl-f1c6bca0\"><span class=\"cl-f1b5e5ec\">0.77, 6.96</span></p></td><td class=\"cl-f1c73717\"><p class=\"cl-f1c6bca0\"><span class=\"cl-f1b5e5ec\">0.14</span></p></td><td class=\"cl-f1c73720\"><p class=\"cl-f1c6bca0\"><span class=\"cl-f1b5e5ec\">2.01</span></p></td><td class=\"cl-f1c73721\"><p class=\"cl-f1c6bca0\"><span class=\"cl-f1b5e5ec\">0.218</span></p></td></tr><tr style=\"overflow-wrap:break-word;\"><td class=\"cl-f1c73703\"><p class=\"cl-f1c6bcaa\"><span class=\"cl-f1b5e5ec\">2</span></p></td><td class=\"cl-f1c7370c\"><p class=\"cl-f1c6bca0\"><span class=\"cl-f1b5e5ec\">5.63</span></p></td><td class=\"cl-f1c73716\"><p class=\"cl-f1c6bca0\"><span class=\"cl-f1b5e5ec\">1.98, 16.0</span></p></td><td class=\"cl-f1c73717\"><p class=\"cl-f1c6bca0\"><span class=\"cl-f1b5e5ec\">0.001</span></p></td><td class=\"cl-f1c73720\"><p class=\"cl-f1c6bca0\"><span class=\"cl-f1b5e5ec\">2.33</span></p></td><td class=\"cl-f1c73721\"><p class=\"cl-f1c6bca0\"><span class=\"cl-f1b5e5ec\">0.182</span></p></td></tr><tr style=\"overflow-wrap:break-word;\"><td class=\"cl-f1c73703\"><p class=\"cl-f1c6bcaa\"><span class=\"cl-f1b5e5ec\">3</span></p></td><td class=\"cl-f1c7370c\"><p class=\"cl-f1c6bca0\"><span class=\"cl-f1b5e5ec\">9.90</span></p></td><td class=\"cl-f1c73716\"><p class=\"cl-f1c6bca0\"><span class=\"cl-f1b5e5ec\">3.61, 27.2</span></p></td><td class=\"cl-f1c73717\"><p class=\"cl-f1c6bca0\"><span class=\"cl-f1b5e5ec\">&lt;0.001</span></p></td><td class=\"cl-f1c73720\"><p class=\"cl-f1c6bca0\"><span class=\"cl-f1b5e5ec\">4.08*</span></p></td><td class=\"cl-f1c73721\"><p class=\"cl-f1c6bca0\"><span class=\"cl-f1b5e61e\">0.018</span></p></td></tr><tr style=\"overflow-wrap:break-word;\"><td class=\"cl-f1c736b4\"><p class=\"cl-f1c6bc82\"><span class=\"cl-f1b5e5ec\">AGE</span></p></td><td class=\"cl-f1c736bc\"><p class=\"cl-f1c6bca0\"><span class=\"cl-f1b5e5ec\"></span></p></td><td class=\"cl-f1c736c6\"><p class=\"cl-f1c6bca0\"><span class=\"cl-f1b5e5ec\"></span></p></td><td class=\"cl-f1c736d0\"><p class=\"cl-f1c6bca0\"><span class=\"cl-f1b5e5ec\"></span></p></td><td class=\"cl-f1c736da\"><p class=\"cl-f1c6bca0\"><span class=\"cl-f1b5e5ec\"></span></p></td><td class=\"cl-f1c736db\"><p class=\"cl-f1c6bca0\"><span class=\"cl-f1b5e5ec\"></span></p></td></tr><tr style=\"overflow-wrap:break-word;\"><td class=\"cl-f1c7377a\"><p class=\"cl-f1c6bcaa\"><span class=\"cl-f1b5e5ec\">&gt; 42</span></p></td><td class=\"cl-f1c73784\"><p class=\"cl-f1c6bca0\"><span class=\"cl-f1b5e5ec\">—</span></p></td><td class=\"cl-f1c73785\"><p class=\"cl-f1c6bca0\"><span class=\"cl-f1b5e5ec\">—</span></p></td><td class=\"cl-f1c7378e\"><p class=\"cl-f1c6bca0\"><span class=\"cl-f1b5e5ec\"></span></p></td><td class=\"cl-f1c73798\"><p class=\"cl-f1c6bca0\"><span class=\"cl-f1b5e5ec\">—</span></p></td><td class=\"cl-f1c73799\"><p class=\"cl-f1c6bca0\"><span class=\"cl-f1b5e5ec\"></span></p></td></tr><tr style=\"overflow-wrap:break-word;\"><td class=\"cl-f1c73703\"><p class=\"cl-f1c6bcaa\"><span class=\"cl-f1b5e5ec\">≤ 42</span></p></td><td class=\"cl-f1c7370c\"><p class=\"cl-f1c6bca0\"><span class=\"cl-f1b5e5ec\">0.48</span></p></td><td class=\"cl-f1c73716\"><p class=\"cl-f1c6bca0\"><span class=\"cl-f1b5e5ec\">0.29, 0.79</span></p></td><td class=\"cl-f1c73717\"><p class=\"cl-f1c6bca0\"><span class=\"cl-f1b5e5ec\">0.004</span></p></td><td class=\"cl-f1c73720\"><p class=\"cl-f1c6bca0\"><span class=\"cl-f1b5e5ec\">0.52*</span></p></td><td class=\"cl-f1c73721\"><p class=\"cl-f1c6bca0\"><span class=\"cl-f1b5e61e\">0.012</span></p></td></tr><tr style=\"overflow-wrap:break-word;\"><td class=\"cl-f1c736e4\"><p class=\"cl-f1c6bc82\"><span class=\"cl-f1b5e5ec\">total.LN</span></p></td><td class=\"cl-f1c736ee\"><p class=\"cl-f1c6bca0\"><span class=\"cl-f1b5e5ec\"></span></p></td><td class=\"cl-f1c736ef\"><p class=\"cl-f1c6bca0\"><span class=\"cl-f1b5e5ec\"></span></p></td><td class=\"cl-f1c736f0\"><p class=\"cl-f1c6bca0\"><span class=\"cl-f1b5e5ec\"></span></p></td><td class=\"cl-f1c736f8\"><p class=\"cl-f1c6bca0\"><span class=\"cl-f1b5e5ec\"></span></p></td><td class=\"cl-f1c73702\"><p class=\"cl-f1c6bca0\"><span class=\"cl-f1b5e5ec\"></span></p></td></tr><tr style=\"overflow-wrap:break-word;\"><td class=\"cl-f1c737a2\"><p class=\"cl-f1c6bcaa\"><span class=\"cl-f1b5e5ec\">&gt; 10</span></p></td><td class=\"cl-f1c737a3\"><p class=\"cl-f1c6bca0\"><span class=\"cl-f1b5e5ec\">—</span></p></td><td class=\"cl-f1c737ac\"><p class=\"cl-f1c6bca0\"><span class=\"cl-f1b5e5ec\">—</span></p></td><td class=\"cl-f1c737ad\"><p class=\"cl-f1c6bca0\"><span class=\"cl-f1b5e5ec\"></span></p></td><td class=\"cl-f1c737b6\"><p class=\"cl-f1c6bca0\"><span class=\"cl-f1b5e5ec\">—</span></p></td><td class=\"cl-f1c737b7\"><p class=\"cl-f1c6bca0\"><span class=\"cl-f1b5e5ec\"></span></p></td></tr><tr style=\"overflow-wrap:break-word;\"><td class=\"cl-f1c73703\"><p class=\"cl-f1c6bcaa\"><span class=\"cl-f1b5e5ec\">≤ 10</span></p></td><td class=\"cl-f1c7370c\"><p class=\"cl-f1c6bca0\"><span class=\"cl-f1b5e5ec\">0.62</span></p></td><td class=\"cl-f1c73716\"><p class=\"cl-f1c6bca0\"><span class=\"cl-f1b5e5ec\">0.41, 0.94</span></p></td><td class=\"cl-f1c73717\"><p class=\"cl-f1c6bca0\"><span class=\"cl-f1b5e5ec\">0.024</span></p></td><td class=\"cl-f1c73720\"><p class=\"cl-f1c6bca0\"><span class=\"cl-f1b5e5ec\">0.48***</span></p></td><td class=\"cl-f1c73721\"><p class=\"cl-f1c6bca0\"><span class=\"cl-f1b5e61e\">&lt;0.001</span></p></td></tr><tr style=\"overflow-wrap:break-word;\"><td class=\"cl-f1c737c0\"><p class=\"cl-f1c6bc82\"><span class=\"cl-f1b5e5ec\">Ptve_LN</span></p></td><td class=\"cl-f1c737c1\"><p class=\"cl-f1c6bca0\"><span class=\"cl-f1b5e5ec\"></span></p></td><td class=\"cl-f1c737ca\"><p class=\"cl-f1c6bca0\"><span class=\"cl-f1b5e5ec\"></span></p></td><td class=\"cl-f1c737d4\"><p class=\"cl-f1c6bca0\"><span class=\"cl-f1b5e5ec\"></span></p></td><td class=\"cl-f1c737d5\"><p class=\"cl-f1c6bca0\"><span class=\"cl-f1b5e5ec\"></span></p></td><td class=\"cl-f1c737d6\"><p class=\"cl-f1c6bca0\"><span class=\"cl-f1b5e5ec\"></span></p></td></tr><tr style=\"overflow-wrap:break-word;\"><td class=\"cl-f1c7377a\"><p class=\"cl-f1c6bcaa\"><span class=\"cl-f1b5e5ec\">&gt; 2</span></p></td><td class=\"cl-f1c73784\"><p class=\"cl-f1c6bca0\"><span class=\"cl-f1b5e5ec\">—</span></p></td><td class=\"cl-f1c73785\"><p class=\"cl-f1c6bca0\"><span class=\"cl-f1b5e5ec\">—</span></p></td><td class=\"cl-f1c7378e\"><p class=\"cl-f1c6bca0\"><span class=\"cl-f1b5e5ec\"></span></p></td><td class=\"cl-f1c73798\"><p class=\"cl-f1c6bca0\"><span class=\"cl-f1b5e5ec\">—</span></p></td><td class=\"cl-f1c73799\"><p class=\"cl-f1c6bca0\"><span class=\"cl-f1b5e5ec\"></span></p></td></tr><tr style=\"overflow-wrap:break-word;\"><td class=\"cl-f1c73703\"><p class=\"cl-f1c6bcaa\"><span class=\"cl-f1b5e5ec\">≤ 2</span></p></td><td class=\"cl-f1c7370c\"><p class=\"cl-f1c6bca0\"><span class=\"cl-f1b5e5ec\">4.40</span></p></td><td class=\"cl-f1c73716\"><p class=\"cl-f1c6bca0\"><span class=\"cl-f1b5e5ec\">2.93, 6.60</span></p></td><td class=\"cl-f1c73717\"><p class=\"cl-f1c6bca0\"><span class=\"cl-f1b5e5ec\">&lt;0.001</span></p></td><td class=\"cl-f1c73720\"><p class=\"cl-f1c6bca0\"><span class=\"cl-f1b5e5ec\">2.37***</span></p></td><td class=\"cl-f1c73721\"><p class=\"cl-f1c6bca0\"><span class=\"cl-f1b5e61e\">&lt;0.001</span></p></td></tr><tr style=\"overflow-wrap:break-word;\"><td class=\"cl-f1c736b4\"><p class=\"cl-f1c6bc82\"><span class=\"cl-f1b5e5ec\">CEA</span></p></td><td class=\"cl-f1c736bc\"><p class=\"cl-f1c6bca0\"><span class=\"cl-f1b5e5ec\"></span></p></td><td class=\"cl-f1c736c6\"><p class=\"cl-f1c6bca0\"><span class=\"cl-f1b5e5ec\"></span></p></td><td class=\"cl-f1c736d0\"><p class=\"cl-f1c6bca0\"><span class=\"cl-f1b5e5ec\"></span></p></td><td class=\"cl-f1c736da\"><p class=\"cl-f1c6bca0\"><span class=\"cl-f1b5e5ec\"></span></p></td><td class=\"cl-f1c736db\"><p class=\"cl-f1c6bca0\"><span class=\"cl-f1b5e5ec\"></span></p></td></tr><tr style=\"overflow-wrap:break-word;\"><td class=\"cl-f1c7377a\"><p class=\"cl-f1c6bcaa\"><span class=\"cl-f1b5e5ec\">&gt; 4.2</span></p></td><td class=\"cl-f1c73784\"><p class=\"cl-f1c6bca0\"><span class=\"cl-f1b5e5ec\">—</span></p></td><td class=\"cl-f1c73785\"><p class=\"cl-f1c6bca0\"><span class=\"cl-f1b5e5ec\">—</span></p></td><td class=\"cl-f1c7378e\"><p class=\"cl-f1c6bca0\"><span class=\"cl-f1b5e5ec\"></span></p></td><td class=\"cl-f1c73798\"><p class=\"cl-f1c6bca0\"><span class=\"cl-f1b5e5ec\">—</span></p></td><td class=\"cl-f1c73799\"><p class=\"cl-f1c6bca0\"><span class=\"cl-f1b5e5ec\"></span></p></td></tr><tr style=\"overflow-wrap:break-word;\"><td class=\"cl-f1c73703\"><p class=\"cl-f1c6bcaa\"><span class=\"cl-f1b5e5ec\">≤ 4.2</span></p></td><td class=\"cl-f1c7370c\"><p class=\"cl-f1c6bca0\"><span class=\"cl-f1b5e5ec\">2.03</span></p></td><td class=\"cl-f1c73716\"><p class=\"cl-f1c6bca0\"><span class=\"cl-f1b5e5ec\">1.40, 2.94</span></p></td><td class=\"cl-f1c73717\"><p class=\"cl-f1c6bca0\"><span class=\"cl-f1b5e5ec\">&lt;0.001</span></p></td><td class=\"cl-f1c73720\"><p class=\"cl-f1c6bca0\"><span class=\"cl-f1b5e5ec\">1.34</span></p></td><td class=\"cl-f1c73721\"><p class=\"cl-f1c6bca0\"><span class=\"cl-f1b5e5ec\">0.142</span></p></td></tr><tr style=\"overflow-wrap:break-word;\"><td class=\"cl-f1c737c0\"><p class=\"cl-f1c6bc82\"><span class=\"cl-f1b5e5ec\">preAlb</span></p></td><td class=\"cl-f1c737c1\"><p class=\"cl-f1c6bca0\"><span class=\"cl-f1b5e5ec\"></span></p></td><td class=\"cl-f1c737ca\"><p class=\"cl-f1c6bca0\"><span class=\"cl-f1b5e5ec\"></span></p></td><td class=\"cl-f1c737d4\"><p class=\"cl-f1c6bca0\"><span class=\"cl-f1b5e5ec\"></span></p></td><td class=\"cl-f1c737d5\"><p class=\"cl-f1c6bca0\"><span class=\"cl-f1b5e5ec\"></span></p></td><td class=\"cl-f1c737d6\"><p class=\"cl-f1c6bca0\"><span class=\"cl-f1b5e5ec\"></span></p></td></tr><tr style=\"overflow-wrap:break-word;\"><td class=\"cl-f1c7372a\"><p class=\"cl-f1c6bcaa\"><span class=\"cl-f1b5e5ec\">&gt; 4</span></p></td><td class=\"cl-f1c73734\"><p class=\"cl-f1c6bca0\"><span class=\"cl-f1b5e5ec\">—</span></p></td><td class=\"cl-f1c73735\"><p class=\"cl-f1c6bca0\"><span class=\"cl-f1b5e5ec\">—</span></p></td><td class=\"cl-f1c7373e\"><p class=\"cl-f1c6bca0\"><span class=\"cl-f1b5e5ec\"></span></p></td><td class=\"cl-f1c73748\"><p class=\"cl-f1c6bca0\"><span class=\"cl-f1b5e5ec\">—</span></p></td><td class=\"cl-f1c73749\"><p class=\"cl-f1c6bca0\"><span class=\"cl-f1b5e5ec\"></span></p></td></tr><tr style=\"overflow-wrap:break-word;\"><td class=\"cl-f1c73703\"><p class=\"cl-f1c6bcaa\"><span class=\"cl-f1b5e5ec\">≤ 4</span></p></td><td class=\"cl-f1c7370c\"><p class=\"cl-f1c6bca0\"><span class=\"cl-f1b5e5ec\">0.64</span></p></td><td class=\"cl-f1c73716\"><p class=\"cl-f1c6bca0\"><span class=\"cl-f1b5e5ec\">0.44, 0.94</span></p></td><td class=\"cl-f1c73717\"><p class=\"cl-f1c6bca0\"><span class=\"cl-f1b5e5ec\">0.021</span></p></td><td class=\"cl-f1c73720\"><p class=\"cl-f1c6bca0\"><span class=\"cl-f1b5e5ec\">0.75</span></p></td><td class=\"cl-f1c73721\"><p class=\"cl-f1c6bca0\"><span class=\"cl-f1b5e5ec\">0.164</span></p></td></tr><tr style=\"overflow-wrap:break-word;\"><td class=\"cl-f1c737c0\"><p class=\"cl-f1c6bc82\"><span class=\"cl-f1b5e5ec\">preNEU</span></p></td><td class=\"cl-f1c737c1\"><p class=\"cl-f1c6bca0\"><span class=\"cl-f1b5e5ec\"></span></p></td><td class=\"cl-f1c737ca\"><p class=\"cl-f1c6bca0\"><span class=\"cl-f1b5e5ec\"></span></p></td><td class=\"cl-f1c737d4\"><p class=\"cl-f1c6bca0\"><span class=\"cl-f1b5e5ec\"></span></p></td><td class=\"cl-f1c737d5\"><p class=\"cl-f1c6bca0\"><span class=\"cl-f1b5e5ec\"></span></p></td><td class=\"cl-f1c737d6\"><p class=\"cl-f1c6bca0\"><span class=\"cl-f1b5e5ec\"></span></p></td></tr><tr style=\"overflow-wrap:break-word;\"><td class=\"cl-f1c737fd\"><p class=\"cl-f1c6bcaa\"><span class=\"cl-f1b5e5ec\">&gt; 3.7</span></p></td><td class=\"cl-f1c73806\"><p class=\"cl-f1c6bca0\"><span class=\"cl-f1b5e5ec\">—</span></p></td><td class=\"cl-f1c73807\"><p class=\"cl-f1c6bca0\"><span class=\"cl-f1b5e5ec\">—</span></p></td><td class=\"cl-f1c73810\"><p class=\"cl-f1c6bca0\"><span class=\"cl-f1b5e5ec\"></span></p></td><td class=\"cl-f1c7381a\"><p class=\"cl-f1c6bca0\"><span class=\"cl-f1b5e5ec\">—</span></p></td><td class=\"cl-f1c7381b\"><p class=\"cl-f1c6bca0\"><span class=\"cl-f1b5e5ec\"></span></p></td></tr><tr style=\"overflow-wrap:break-word;\"><td class=\"cl-f1c73703\"><p class=\"cl-f1c6bcaa\"><span class=\"cl-f1b5e5ec\">≤ 3.7</span></p></td><td class=\"cl-f1c7370c\"><p class=\"cl-f1c6bca0\"><span class=\"cl-f1b5e5ec\">1.68</span></p></td><td class=\"cl-f1c73716\"><p class=\"cl-f1c6bca0\"><span class=\"cl-f1b5e5ec\">1.07, 2.66</span></p></td><td class=\"cl-f1c73717\"><p class=\"cl-f1c6bca0\"><span class=\"cl-f1b5e5ec\">0.026</span></p></td><td class=\"cl-f1c73720\"><p class=\"cl-f1c6bca0\"><span class=\"cl-f1b5e5ec\">1.43</span></p></td><td class=\"cl-f1c73721\"><p class=\"cl-f1c6bca0\"><span class=\"cl-f1b5e5ec\">0.145</span></p></td></tr><tr style=\"overflow-wrap:break-word;\"><td class=\"cl-f1c737c0\"><p class=\"cl-f1c6bc82\"><span class=\"cl-f1b5e5ec\">preLYM</span></p></td><td class=\"cl-f1c737c1\"><p class=\"cl-f1c6bca0\"><span class=\"cl-f1b5e5ec\"></span></p></td><td class=\"cl-f1c737ca\"><p class=\"cl-f1c6bca0\"><span class=\"cl-f1b5e5ec\"></span></p></td><td class=\"cl-f1c737d4\"><p class=\"cl-f1c6bca0\"><span class=\"cl-f1b5e5ec\"></span></p></td><td class=\"cl-f1c737d5\"><p class=\"cl-f1c6bca0\"><span class=\"cl-f1b5e5ec\"></span></p></td><td class=\"cl-f1c737d6\"><p class=\"cl-f1c6bca0\"><span class=\"cl-f1b5e5ec\"></span></p></td></tr><tr style=\"overflow-wrap:break-word;\"><td class=\"cl-f1c7377a\"><p class=\"cl-f1c6bcaa\"><span class=\"cl-f1b5e5ec\">&gt; 1.17</span></p></td><td class=\"cl-f1c73784\"><p class=\"cl-f1c6bca0\"><span class=\"cl-f1b5e5ec\">—</span></p></td><td class=\"cl-f1c73785\"><p class=\"cl-f1c6bca0\"><span class=\"cl-f1b5e5ec\">—</span></p></td><td class=\"cl-f1c7378e\"><p class=\"cl-f1c6bca0\"><span class=\"cl-f1b5e5ec\"></span></p></td><td class=\"cl-f1c73798\"><p class=\"cl-f1c6bca0\"><span class=\"cl-f1b5e5ec\">—</span></p></td><td class=\"cl-f1c73799\"><p class=\"cl-f1c6bca0\"><span class=\"cl-f1b5e5ec\"></span></p></td></tr><tr style=\"overflow-wrap:break-word;\"><td class=\"cl-f1c73703\"><p class=\"cl-f1c6bcaa\"><span class=\"cl-f1b5e5ec\">≤ 1.17</span></p></td><td class=\"cl-f1c7370c\"><p class=\"cl-f1c6bca0\"><span class=\"cl-f1b5e5ec\">2.04</span></p></td><td class=\"cl-f1c73716\"><p class=\"cl-f1c6bca0\"><span class=\"cl-f1b5e5ec\">1.03, 4.04</span></p></td><td class=\"cl-f1c73717\"><p class=\"cl-f1c6bca0\"><span class=\"cl-f1b5e5ec\">0.040</span></p></td><td class=\"cl-f1c73720\"><p class=\"cl-f1c6bca0\"><span class=\"cl-f1b5e5ec\">2.71**</span></p></td><td class=\"cl-f1c73721\"><p class=\"cl-f1c6bca0\"><span class=\"cl-f1b5e61e\">0.007</span></p></td></tr><tr style=\"overflow-wrap:break-word;\"><td class=\"cl-f1c737c0\"><p class=\"cl-f1c6bc82\"><span class=\"cl-f1b5e5ec\">postNEU</span></p></td><td class=\"cl-f1c737c1\"><p class=\"cl-f1c6bca0\"><span class=\"cl-f1b5e5ec\"></span></p></td><td class=\"cl-f1c737ca\"><p class=\"cl-f1c6bca0\"><span class=\"cl-f1b5e5ec\"></span></p></td><td class=\"cl-f1c737d4\"><p class=\"cl-f1c6bca0\"><span class=\"cl-f1b5e5ec\"></span></p></td><td class=\"cl-f1c737d5\"><p class=\"cl-f1c6bca0\"><span class=\"cl-f1b5e5ec\"></span></p></td><td class=\"cl-f1c737d6\"><p class=\"cl-f1c6bca0\"><span class=\"cl-f1b5e5ec\"></span></p></td></tr><tr style=\"overflow-wrap:break-word;\"><td class=\"cl-f1c7377a\"><p class=\"cl-f1c6bcaa\"><span class=\"cl-f1b5e5ec\">&gt; 4.12</span></p></td><td class=\"cl-f1c73784\"><p class=\"cl-f1c6bca0\"><span class=\"cl-f1b5e5ec\">—</span></p></td><td class=\"cl-f1c73785\"><p class=\"cl-f1c6bca0\"><span class=\"cl-f1b5e5ec\">—</span></p></td><td class=\"cl-f1c7378e\"><p class=\"cl-f1c6bca0\"><span class=\"cl-f1b5e5ec\"></span></p></td><td class=\"cl-f1c73798\"><p class=\"cl-f1c6bca0\"><span class=\"cl-f1b5e5ec\">—</span></p></td><td class=\"cl-f1c73799\"><p class=\"cl-f1c6bca0\"><span class=\"cl-f1b5e5ec\"></span></p></td></tr><tr style=\"overflow-wrap:break-word;\"><td class=\"cl-f1c73703\"><p class=\"cl-f1c6bcaa\"><span class=\"cl-f1b5e5ec\">≤ 4.12</span></p></td><td class=\"cl-f1c7370c\"><p class=\"cl-f1c6bca0\"><span class=\"cl-f1b5e5ec\">1.50</span></p></td><td class=\"cl-f1c73716\"><p class=\"cl-f1c6bca0\"><span class=\"cl-f1b5e5ec\">1.02, 2.19</span></p></td><td class=\"cl-f1c73717\"><p class=\"cl-f1c6bca0\"><span class=\"cl-f1b5e5ec\">0.039</span></p></td><td class=\"cl-f1c73720\"><p class=\"cl-f1c6bca0\"><span class=\"cl-f1b5e5ec\">1.07</span></p></td><td class=\"cl-f1c73721\"><p class=\"cl-f1c6bca0\"><span class=\"cl-f1b5e5ec\">0.788</span></p></td></tr><tr style=\"overflow-wrap:break-word;\"><td class=\"cl-f1c737c0\"><p class=\"cl-f1c6bc82\"><span class=\"cl-f1b5e5ec\">postPLT</span></p></td><td class=\"cl-f1c737c1\"><p class=\"cl-f1c6bca0\"><span class=\"cl-f1b5e5ec\"></span></p></td><td class=\"cl-f1c737ca\"><p class=\"cl-f1c6bca0\"><span class=\"cl-f1b5e5ec\"></span></p></td><td class=\"cl-f1c737d4\"><p class=\"cl-f1c6bca0\"><span class=\"cl-f1b5e5ec\"></span></p></td><td class=\"cl-f1c737d5\"><p class=\"cl-f1c6bca0\"><span class=\"cl-f1b5e5ec\"></span></p></td><td class=\"cl-f1c737d6\"><p class=\"cl-f1c6bca0\"><span class=\"cl-f1b5e5ec\"></span></p></td></tr><tr style=\"overflow-wrap:break-word;\"><td class=\"cl-f1c737a2\"><p class=\"cl-f1c6bcaa\"><span class=\"cl-f1b5e5ec\">&gt; 197</span></p></td><td class=\"cl-f1c737a3\"><p class=\"cl-f1c6bca0\"><span class=\"cl-f1b5e5ec\">—</span></p></td><td class=\"cl-f1c737ac\"><p class=\"cl-f1c6bca0\"><span class=\"cl-f1b5e5ec\">—</span></p></td><td class=\"cl-f1c737ad\"><p class=\"cl-f1c6bca0\"><span class=\"cl-f1b5e5ec\"></span></p></td><td class=\"cl-f1c737b6\"><p class=\"cl-f1c6bca0\"><span class=\"cl-f1b5e5ec\">—</span></p></td><td class=\"cl-f1c737b7\"><p class=\"cl-f1c6bca0\"><span class=\"cl-f1b5e5ec\"></span></p></td></tr><tr style=\"overflow-wrap:break-word;\"><td class=\"cl-f1c73703\"><p class=\"cl-f1c6bcaa\"><span class=\"cl-f1b5e5ec\">≤ 197</span></p></td><td class=\"cl-f1c7370c\"><p class=\"cl-f1c6bca0\"><span class=\"cl-f1b5e5ec\">1.99</span></p></td><td class=\"cl-f1c73716\"><p class=\"cl-f1c6bca0\"><span class=\"cl-f1b5e5ec\">1.24, 3.19</span></p></td><td class=\"cl-f1c73717\"><p class=\"cl-f1c6bca0\"><span class=\"cl-f1b5e5ec\">0.004</span></p></td><td class=\"cl-f1c73720\"><p class=\"cl-f1c6bca0\"><span class=\"cl-f1b5e5ec\">1.41</span></p></td><td class=\"cl-f1c73721\"><p class=\"cl-f1c6bca0\"><span class=\"cl-f1b5e5ec\">0.188</span></p></td></tr><tr style=\"overflow-wrap:break-word;\"><td class=\"cl-f1c737c0\"><p class=\"cl-f1c6bc82\"><span class=\"cl-f1b5e5ec\">postNLR</span></p></td><td class=\"cl-f1c737c1\"><p class=\"cl-f1c6bca0\"><span class=\"cl-f1b5e5ec\"></span></p></td><td class=\"cl-f1c737ca\"><p class=\"cl-f1c6bca0\"><span class=\"cl-f1b5e5ec\"></span></p></td><td class=\"cl-f1c737d4\"><p class=\"cl-f1c6bca0\"><span class=\"cl-f1b5e5ec\"></span></p></td><td class=\"cl-f1c737d5\"><p class=\"cl-f1c6bca0\"><span class=\"cl-f1b5e5ec\"></span></p></td><td class=\"cl-f1c737d6\"><p class=\"cl-f1c6bca0\"><span class=\"cl-f1b5e5ec\"></span></p></td></tr><tr style=\"overflow-wrap:break-word;\"><td class=\"cl-f1c737fd\"><p class=\"cl-f1c6bcaa\"><span class=\"cl-f1b5e5ec\">&gt; 5.93</span></p></td><td class=\"cl-f1c73806\"><p class=\"cl-f1c6bca0\"><span class=\"cl-f1b5e5ec\">—</span></p></td><td class=\"cl-f1c73807\"><p class=\"cl-f1c6bca0\"><span class=\"cl-f1b5e5ec\">—</span></p></td><td class=\"cl-f1c73810\"><p class=\"cl-f1c6bca0\"><span class=\"cl-f1b5e5ec\"></span></p></td><td class=\"cl-f1c7381a\"><p class=\"cl-f1c6bca0\"><span class=\"cl-f1b5e5ec\">—</span></p></td><td class=\"cl-f1c7381b\"><p class=\"cl-f1c6bca0\"><span class=\"cl-f1b5e5ec\"></span></p></td></tr><tr style=\"overflow-wrap:break-word;\"><td class=\"cl-f1c73703\"><p class=\"cl-f1c6bcaa\"><span class=\"cl-f1b5e5ec\">≤ 5.93</span></p></td><td class=\"cl-f1c7370c\"><p class=\"cl-f1c6bca0\"><span class=\"cl-f1b5e5ec\">1.58</span></p></td><td class=\"cl-f1c73716\"><p class=\"cl-f1c6bca0\"><span class=\"cl-f1b5e5ec\">1.08, 2.30</span></p></td><td class=\"cl-f1c73717\"><p class=\"cl-f1c6bca0\"><span class=\"cl-f1b5e5ec\">0.018</span></p></td><td class=\"cl-f1c73720\"><p class=\"cl-f1c6bca0\"><span class=\"cl-f1b5e5ec\">1.14</span></p></td><td class=\"cl-f1c73721\"><p class=\"cl-f1c6bca0\"><span class=\"cl-f1b5e5ec\">0.634</span></p></td></tr><tr style=\"overflow-wrap:break-word;\"><td class=\"cl-f1c737c0\"><p class=\"cl-f1c6bc82\"><span class=\"cl-f1b5e5ec\">postPLR</span></p></td><td class=\"cl-f1c737c1\"><p class=\"cl-f1c6bca0\"><span class=\"cl-f1b5e5ec\"></span></p></td><td class=\"cl-f1c737ca\"><p class=\"cl-f1c6bca0\"><span class=\"cl-f1b5e5ec\"></span></p></td><td class=\"cl-f1c737d4\"><p class=\"cl-f1c6bca0\"><span class=\"cl-f1b5e5ec\"></span></p></td><td class=\"cl-f1c737d5\"><p class=\"cl-f1c6bca0\"><span class=\"cl-f1b5e5ec\"></span></p></td><td class=\"cl-f1c737d6\"><p class=\"cl-f1c6bca0\"><span class=\"cl-f1b5e5ec\"></span></p></td></tr><tr style=\"overflow-wrap:break-word;\"><td class=\"cl-f1c737fd\"><p class=\"cl-f1c6bcaa\"><span class=\"cl-f1b5e5ec\">&gt; 307.81</span></p></td><td class=\"cl-f1c73806\"><p class=\"cl-f1c6bca0\"><span class=\"cl-f1b5e5ec\">—</span></p></td><td class=\"cl-f1c73807\"><p class=\"cl-f1c6bca0\"><span class=\"cl-f1b5e5ec\">—</span></p></td><td class=\"cl-f1c73810\"><p class=\"cl-f1c6bca0\"><span class=\"cl-f1b5e5ec\"></span></p></td><td class=\"cl-f1c7381a\"><p class=\"cl-f1c6bca0\"><span class=\"cl-f1b5e5ec\">—</span></p></td><td class=\"cl-f1c7381b\"><p class=\"cl-f1c6bca0\"><span class=\"cl-f1b5e5ec\"></span></p></td></tr><tr style=\"overflow-wrap:break-word;\"><td class=\"cl-f1c73824\"><p class=\"cl-f1c6bcaa\"><span class=\"cl-f1b5e5ec\">≤ 307.81</span></p></td><td class=\"cl-f1c73825\"><p class=\"cl-f1c6bca0\"><span class=\"cl-f1b5e5ec\">1.61</span></p></td><td class=\"cl-f1c7382e\"><p class=\"cl-f1c6bca0\"><span class=\"cl-f1b5e5ec\">1.11, 2.34</span></p></td><td class=\"cl-f1c7382f\"><p class=\"cl-f1c6bca0\"><span class=\"cl-f1b5e5ec\">0.011</span></p></td><td class=\"cl-f1c73838\"><p class=\"cl-f1c6bca0\"><span class=\"cl-f1b5e5ec\">1.60*</span></p></td><td class=\"cl-f1c73839\"><p class=\"cl-f1c6bca0\"><span class=\"cl-f1b5e61e\">0.048</span></p></td></tr></tbody><tfoot><tr style=\"overflow-wrap:break-word;\"><td  colspan=\"6\"class=\"cl-f1c73842\"><p class=\"cl-f1c6bcbe\"><span class=\"cl-f1b5e628\">1</span><span class=\"cl-f1b5e5ec\">HR = Hazard Ratio, CI = Confidence Interval</span></p></td></tr></tfoot></table></div>"
      ]
     }
    }
   ],
   "source": [
    "# 단변량 Cox 비례위험 회귀 테이블 생성\n",
    "uni_tbl <- tbl_uvregression(\n",
    "  data = dichotomized_data %>%\n",
    "    select(SSS, DRM, R1, pT, ypStage, AGE, total.LN, Ptve_LN, CEA, preAlb, preNEU, preLYM, postNEU, postPLT, postNLR, postPLR,PDFS, RECUR),\n",
    "  method = coxph,\n",
    "  y = Surv(PDFS, RECUR),\n",
    "  exponentiate = TRUE,\n",
    "  hide_n = TRUE\n",
    ") %>%\n",
    "  modify_footnote(everything() ~ NA)\n",
    "\n",
    "# 다변량 Cox 비례위험 회귀 테이블 생성\n",
    "multivariate_cox_model_DFS <- coxph(Surv(PDFS, RECUR) ~ SSS+DRM+R1+pT+ypStage+AGE+total.LN+Ptve_LN+CEA+preAlb+preNEU+preLYM+postNEU+postPLT+postNLR+postPLR,data = dichotomized_data)\n",
    "mult_tbl <- tbl_regression(\n",
    "  x = multivariate_cox_model_DFS,\n",
    "  exponentiate = T,\n",
    "  pvalue_fun = ~ style_pvalue(., digits = 3),\n",
    "  estimate_fun = ~style_ratio(., digits = 2)\n",
    ") |> \n",
    "  bold_p() |> \n",
    "  # modify_column_merge(pattern = \"{estimate} ({conf.low}-{conf.high})\",\n",
    "  #                     rows = !is.na(estimate)) |> \n",
    "  add_significance_stars(hide_ci = T, hide_se = T) |> \n",
    "  modify_header(\n",
    "    label = \"**Variable**\",\n",
    "    estimate = \"**OR (95% CI)**\",\n",
    "    p.value = \"**P value**\"\n",
    "  ) |> \n",
    "  modify_footnote(everything() ~ NA)\n",
    "\n",
    "# 테이블 합치기\n",
    "tbl_merge(\n",
    "  list(uni_tbl, mult_tbl),\n",
    "  tab_spanner = \n",
    "    c(\"**Univariable**\", \"**Multivariable**\")\n",
    ") |> \n",
    "  as_flex_table()"
   ],
   "id": "f9fc829d-aeae-411b-af85-08cd0d208071"
  },
  {
   "cell_type": "markdown",
   "metadata": {},
   "source": [
    "후진제거법을 적용했을 때 유의한 변수들은 아래와 같았다."
   ],
   "id": "0430fe9d-9159-4623-8271-3bd753d2bb54"
  },
  {
   "cell_type": "code",
   "execution_count": null,
   "metadata": {},
   "outputs": [
    {
     "output_type": "stream",
     "name": "stdout",
     "text": [
      "Start:  AIC=1354.42\n",
      "Surv(PDFS, RECUR) ~ SSS + DRM + R1 + pT + ypStage + AGE + total.LN + \n",
      "    Ptve_LN + CEA + preAlb + preNEU + preLYM + postNEU + postPLT + \n",
      "    postNLR + postPLR\n",
      "\n",
      "           Df    AIC\n",
      "- R1        1 1352.4\n",
      "- postNEU   1 1352.5\n",
      "- postNLR   1 1352.7\n",
      "- postPLT   1 1354.2\n",
      "- preAlb    1 1354.3\n",
      "<none>        1354.4\n",
      "- SSS       1 1354.4\n",
      "- CEA       1 1354.5\n",
      "- preNEU    1 1354.7\n",
      "- DRM       1 1355.7\n",
      "- postPLR   1 1356.3\n",
      "- pT        1 1356.7\n",
      "- AGE       1 1358.0\n",
      "- ypStage   3 1358.1\n",
      "- preLYM    1 1361.7\n",
      "- total.LN  1 1362.3\n",
      "- Ptve_LN   1 1363.5\n",
      "\n",
      "Step:  AIC=1352.42\n",
      "Surv(PDFS, RECUR) ~ SSS + DRM + pT + ypStage + AGE + total.LN + \n",
      "    Ptve_LN + CEA + preAlb + preNEU + preLYM + postNEU + postPLT + \n",
      "    postNLR + postPLR\n",
      "\n",
      "           Df    AIC\n",
      "- postNEU   1 1350.5\n",
      "- postNLR   1 1350.7\n",
      "- postPLT   1 1352.2\n",
      "- preAlb    1 1352.3\n",
      "<none>        1352.4\n",
      "- SSS       1 1352.4\n",
      "- CEA       1 1352.5\n",
      "- preNEU    1 1352.7\n",
      "- postPLR   1 1354.3\n",
      "- DRM       1 1354.4\n",
      "- pT        1 1354.7\n",
      "- AGE       1 1356.0\n",
      "- ypStage   3 1356.1\n",
      "- preLYM    1 1359.7\n",
      "- total.LN  1 1360.3\n",
      "- Ptve_LN   1 1361.7\n",
      "\n",
      "Step:  AIC=1350.49\n",
      "Surv(PDFS, RECUR) ~ SSS + DRM + pT + ypStage + AGE + total.LN + \n",
      "    Ptve_LN + CEA + preAlb + preNEU + preLYM + postPLT + postNLR + \n",
      "    postPLR\n",
      "\n",
      "           Df    AIC\n",
      "- postNLR   1 1349.0\n",
      "- preAlb    1 1350.4\n",
      "- postPLT   1 1350.4\n",
      "<none>        1350.5\n",
      "- SSS       1 1350.5\n",
      "- CEA       1 1350.6\n",
      "- preNEU    1 1350.9\n",
      "- postPLR   1 1352.3\n",
      "- DRM       1 1352.4\n",
      "- pT        1 1352.8\n",
      "- AGE       1 1354.0\n",
      "- ypStage   3 1354.1\n",
      "- total.LN  1 1358.3\n",
      "- preLYM    1 1358.5\n",
      "- Ptve_LN   1 1359.9\n",
      "\n",
      "Step:  AIC=1349\n",
      "Surv(PDFS, RECUR) ~ SSS + DRM + pT + ypStage + AGE + total.LN + \n",
      "    Ptve_LN + CEA + preAlb + preNEU + preLYM + postPLT + postPLR\n",
      "\n",
      "           Df    AIC\n",
      "- postPLT   1 1348.7\n",
      "<none>        1349.0\n",
      "- preAlb    1 1349.0\n",
      "- CEA       1 1349.2\n",
      "- SSS       1 1349.5\n",
      "- preNEU    1 1349.9\n",
      "- DRM       1 1351.1\n",
      "- pT        1 1351.5\n",
      "- ypStage   3 1352.5\n",
      "- AGE       1 1352.5\n",
      "- postPLR   1 1354.2\n",
      "- total.LN  1 1357.0\n",
      "- preLYM    1 1357.1\n",
      "- Ptve_LN   1 1358.4\n",
      "\n",
      "Step:  AIC=1348.67\n",
      "Surv(PDFS, RECUR) ~ SSS + DRM + pT + ypStage + AGE + total.LN + \n",
      "    Ptve_LN + CEA + preAlb + preNEU + preLYM + postPLR\n",
      "\n",
      "           Df    AIC\n",
      "<none>        1348.7\n",
      "- preAlb    1 1348.9\n",
      "- SSS       1 1349.0\n",
      "- CEA       1 1349.1\n",
      "- preNEU    1 1350.4\n",
      "- DRM       1 1351.0\n",
      "- pT        1 1351.3\n",
      "- AGE       1 1352.0\n",
      "- ypStage   3 1352.0\n",
      "- total.LN  1 1356.7\n",
      "- postPLR   1 1356.9\n",
      "- preLYM    1 1357.4\n",
      "- Ptve_LN   1 1358.1"
     ]
    }
   ],
   "source": [
    "stepwise_cox_modelfind<-step(multivariate_cox_model_DFS, direction = 'backward') # 후진제거법 적용 "
   ],
   "id": "cd250d3d-9b89-46d0-9fdc-3af79b0679da"
  },
  {
   "cell_type": "code",
   "execution_count": null,
   "metadata": {},
   "outputs": [
    {
     "output_type": "stream",
     "name": "stdout",
     "text": [
      "Call:\n",
      "coxph(formula = Surv(PDFS, RECUR) ~ SSS + DRM + pT + ypStage + \n",
      "    AGE + total.LN + Ptve_LN + CEA + preAlb + preNEU + preLYM + \n",
      "    postPLR, data = dichotomized_data)\n",
      "\n",
      "  n= 806, number of events= 114 \n",
      "\n",
      "                    coef exp(coef) se(coef)      z Pr(>|z|)    \n",
      "SSSYes           -0.3208    0.7256   0.2074 -1.546 0.122048    \n",
      "DRMPositive       1.9930    7.3372   0.7507  2.655 0.007936 ** \n",
      "pT3/4             0.6932    2.0001   0.3414  2.030 0.042328 *  \n",
      "ypStage1          0.7044    2.0226   0.5673  1.242 0.214340    \n",
      "ypStage2          0.8455    2.3292   0.6324  1.337 0.181241    \n",
      "ypStage3          1.3893    4.0121   0.5938  2.340 0.019291 *  \n",
      "AGE≤ 42         -0.6372    0.5288   0.2588 -2.462 0.013809 *  \n",
      "total.LN≤ 10    -0.7492    0.4727   0.2248 -3.333 0.000860 ***\n",
      "Ptve_LN≤ 2       0.8706    2.3884   0.2541  3.426 0.000612 ***\n",
      "CEA≤ 4.2         0.3118    1.3659   0.1979  1.576 0.115090    \n",
      "preAlb≤ 4       -0.3032    0.7384   0.2021 -1.500 0.133486    \n",
      "preNEU≤ 3.7      0.4421    1.5559   0.2379  1.858 0.063151 .  \n",
      "preLYM≤ 1.17     1.0448    2.8429   0.3611  2.893 0.003810 ** \n",
      "postPLR≤ 307.81  0.6187    1.8565   0.1948  3.177 0.001490 ** \n",
      "---\n",
      "Signif. codes:  0 '***' 0.001 '**' 0.01 '*' 0.05 '.' 0.1 ' ' 1\n",
      "\n",
      "                 exp(coef) exp(-coef) lower .95 upper .95\n",
      "SSSYes              0.7256     1.3782    0.4832    1.0896\n",
      "DRMPositive         7.3372     0.1363    1.6847   31.9546\n",
      "pT3/4               2.0001     0.5000    1.0243    3.9053\n",
      "ypStage1            2.0226     0.4944    0.6654    6.1482\n",
      "ypStage2            2.3292     0.4293    0.6743    8.0453\n",
      "ypStage3            4.0121     0.2492    1.2530   12.8465\n",
      "AGE≤ 42            0.5288     1.8912    0.3184    0.8781\n",
      "total.LN≤ 10       0.4727     2.1154    0.3043    0.7345\n",
      "Ptve_LN≤ 2         2.3884     0.4187    1.4515    3.9300\n",
      "CEA≤ 4.2           1.3659     0.7321    0.9268    2.0129\n",
      "preAlb≤ 4          0.7384     1.3543    0.4969    1.0973\n",
      "preNEU≤ 3.7        1.5559     0.6427    0.9761    2.4802\n",
      "preLYM≤ 1.17       2.8429     0.3517    1.4009    5.7695\n",
      "postPLR≤ 307.81    1.8565     0.5387    1.2674    2.7193\n",
      "\n",
      "Concordance= 0.781  (se = 0.022 )\n",
      "Likelihood ratio test= 124.8  on 14 df,   p=<2e-16\n",
      "Wald test            = 113.1  on 14 df,   p=<2e-16\n",
      "Score (logrank) test = 143.4  on 14 df,   p=<2e-16"
     ]
    }
   ],
   "source": [
    "finalized_model<-coxph(Surv(PDFS, RECUR) ~ SSS + DRM + pT + ypStage + AGE + total.LN + Ptve_LN + CEA + preAlb + preNEU + preLYM + postPLR, data=dichotomized_data)\n",
    "summary(finalized_model)"
   ],
   "id": "a51b3a43-235a-49f8-ba0a-4c2dfa99d889"
  },
  {
   "cell_type": "markdown",
   "metadata": {},
   "source": [
    "**HR plot**"
   ],
   "id": "5fa08fcf-9a18-46ca-b5b1-36399d6b8692"
  },
  {
   "cell_type": "code",
   "execution_count": null,
   "metadata": {},
   "outputs": [
    {
     "output_type": "display_data",
     "metadata": {},
     "data": {
      "image/png": "[encoded data removed]"
     }
    }
   ],
   "source": [
    "ggforest(finalized_model, data=dichotomized_data)"
   ],
   "id": "319231be-8ce3-4503-8cac-c16e088b681d"
  },
  {
   "cell_type": "code",
   "execution_count": null,
   "metadata": {},
   "outputs": [
    {
     "output_type": "stream",
     "name": "stderr",
     "text": [
      "Warning in coxph.fit(X, Y, istrat, offset, init, control, weights = weights, :\n",
      "Loglik converged before variable 2 ; coefficient may be infinite."
     ]
    },
    {
     "output_type": "stream",
     "name": "stdout",
     "text": [
      "각 폴드의 concordance indices:  0.1869236 0.1902909 0.2984035 0.2707854 0.3754522 "
     ]
    },
    {
     "output_type": "stream",
     "name": "stdout",
     "text": [
      "평균 concordance index:  0.2643711 "
     ]
    },
    {
     "output_type": "stream",
     "name": "stdout",
     "text": [
      "concordance index의 표준 편차:  0.07909545 "
     ]
    }
   ],
   "source": [
    "set.seed(42)\n",
    "\n",
    "k <- 5\n",
    "folds <- createFolds(dichotomized_data$RECUR, k = k, list = TRUE, returnTrain = TRUE)\n",
    "\n",
    "# 각 폴드의 concordance index 저장\n",
    "c_indices <- c()\n",
    "\n",
    "for (i in 1:k) {\n",
    "  train_indices <- folds[[i]]\n",
    "  test_indices <- setdiff(seq_len(nrow(dichotomized_data)), train_indices)\n",
    "  \n",
    "  train_data <- dichotomized_data[train_indices, ]\n",
    "  test_data <- dichotomized_data[test_indices, ]\n",
    "  \n",
    "  # CoxPH 모델 적합\n",
    "  cox_model <- coxph(Surv(PDFS, RECUR) ~ SSS + DRM + pT + ypStage + AGE + total.LN + Ptve_LN + CEA + preAlb + preNEU + preLYM + postPLR, data = train_data)\n",
    "  \n",
    "  \n",
    "  # 테스트 데이터에서 예측 위험도 계산\n",
    "  test_data$predicted_risk <- predict(cox_model, newdata = test_data, type = \"risk\")\n",
    "  \n",
    " # concordance index 계산\n",
    "  concordance_result <- concordance(Surv(test_data$PDFS, test_data$RECUR) ~ test_data$predicted_risk)\n",
    "  c_index <- concordance_result$concordance\n",
    "  \n",
    "  c_indices <- c(c_indices, c_index)\n",
    "}"
   ],
   "id": "55049ff6-e46e-4a39-93b5-e394d29770a9"
  },
  {
   "cell_type": "markdown",
   "metadata": {},
   "source": [
    "## Discussion"
   ],
   "id": "992fde1b-9ed6-4e46-8713-cd07e530f0bd"
  }
 ],
 "nbformat": 4,
 "nbformat_minor": 5,
 "metadata": {}
}
