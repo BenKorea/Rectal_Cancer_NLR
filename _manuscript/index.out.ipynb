{
 "cells": [
  {
   "cell_type": "markdown",
   "metadata": {},
   "source": [
    "# Significance of neutrophil-to-lymphocyte ratio for predicting clinical\n",
    "\n",
    "outcomes in rectal cancer\n",
    "\n",
    "R & Python Study Group (KIRAMS)"
   ],
   "id": "072bbf09-169c-40f8-910b-400e31cc84c4"
  },
  {
   "cell_type": "code",
   "execution_count": null,
   "metadata": {},
   "outputs": [],
   "source": [
    "library(readxl)\n",
    "library(data.table)\n",
    "suppressPackageStartupMessages(library(data.table))\n",
    "\n",
    "load_raw_data <- function(folder_path, pattern) {\n",
    "  excel_file_name <- list.files(folder_path, pattern = pattern)\n",
    "  if(length(excel_file_name) == 0) {\n",
    "    stop(\"No files starting with 'NLR' found in the specified folder.\")\n",
    "  }\n",
    "  raw_data <- as.data.table(read_excel(file.path(folder_path, excel_file_name[1])))\n",
    "  \n",
    "  return(raw_data)\n",
    "}\n",
    "\n",
    "folder_path <- \"C:/R/Projects/R-4.4.0-Rectal_Cancer_NLR/data/raw_data/\"\n",
    "pattern <- \"NLR.*\"\n",
    "raw_data <- load_raw_data(folder_path, pattern)"
   ],
   "id": "dfae501b-7a8f-4903-9efb-3d8803b6ab69"
  },
  {
   "cell_type": "code",
   "execution_count": null,
   "metadata": {},
   "outputs": [
    {
     "output_type": "stream",
     "name": "stderr",
     "text": [
      "\n",
      "Attaching package: 'dplyr'"
     ]
    },
    {
     "output_type": "stream",
     "name": "stderr",
     "text": [
      "The following objects are masked from 'package:plyr':\n",
      "\n",
      "    arrange, count, desc, failwith, id, mutate, rename, summarise,\n",
      "    summarize"
     ]
    },
    {
     "output_type": "stream",
     "name": "stderr",
     "text": [
      "The following objects are masked from 'package:data.table':\n",
      "\n",
      "    between, first, last"
     ]
    },
    {
     "output_type": "stream",
     "name": "stderr",
     "text": [
      "The following objects are masked from 'package:stats':\n",
      "\n",
      "    filter, lag"
     ]
    },
    {
     "output_type": "stream",
     "name": "stderr",
     "text": [
      "The following objects are masked from 'package:base':\n",
      "\n",
      "    intersect, setdiff, setequal, union"
     ]
    },
    {
     "output_type": "stream",
     "name": "stderr",
     "text": [
      "Warning: NAs introduced by coercion"
     ]
    },
    {
     "output_type": "stream",
     "name": "stderr",
     "text": [
      "Warning: NAs introduced by coercion"
     ]
    },
    {
     "output_type": "stream",
     "name": "stderr",
     "text": [
      "Warning: NAs introduced by coercion"
     ]
    },
    {
     "output_type": "stream",
     "name": "stderr",
     "text": [
      "Warning: NAs introduced by coercion"
     ]
    },
    {
     "output_type": "stream",
     "name": "stderr",
     "text": [
      "Warning: NAs introduced by coercion"
     ]
    },
    {
     "output_type": "stream",
     "name": "stderr",
     "text": [
      "Warning: NAs introduced by coercion"
     ]
    },
    {
     "output_type": "stream",
     "name": "stderr",
     "text": [
      "Warning: NAs introduced by coercion"
     ]
    },
    {
     "output_type": "stream",
     "name": "stderr",
     "text": [
      "Warning: NAs introduced by coercion"
     ]
    },
    {
     "output_type": "stream",
     "name": "stderr",
     "text": [
      "Warning: NAs introduced by coercion"
     ]
    },
    {
     "output_type": "stream",
     "name": "stderr",
     "text": [
      "Warning: NAs introduced by coercion"
     ]
    },
    {
     "output_type": "stream",
     "name": "stderr",
     "text": [
      "Warning: NAs introduced by coercion"
     ]
    },
    {
     "output_type": "stream",
     "name": "stderr",
     "text": [
      "Warning: NAs introduced by coercion"
     ]
    },
    {
     "output_type": "stream",
     "name": "stderr",
     "text": [
      "Warning: NAs introduced by coercion"
     ]
    }
   ],
   "source": [
    "library(moonBook)\n",
    "library(plyr)\n",
    "library(dplyr)"
   ],
   "id": "cc12b1f7-51e6-42ba-8a1d-8c54d4c4e312"
  },
  {
   "cell_type": "code",
   "execution_count": null,
   "metadata": {},
   "outputs": [],
   "source": [
    "library(survival)\n",
    "library(maxstat)\n",
    "\n",
    "run_maxstat_test <- function(dt, column_name) {\n",
    "  mstat <- maxstat.test(Surv(PDFS, RECUR) ~ dt[[column_name]], data = dt,\n",
    "                        smethod = \"LogRank\", pmethod = \"condMC\", B = 999)\n",
    "  return(mstat$estimate)\n",
    "}"
   ],
   "id": "6740b4a8-64b0-426d-9769-4746f73cba1c"
  },
  {
   "cell_type": "code",
   "execution_count": null,
   "metadata": {},
   "outputs": [],
   "source": [
    "remove_continuous_columns <- function(dt) {\n",
    "  continuous_columns <- grep(\"continuous\", names(dt), value = TRUE)\n",
    "  dt[, (continuous_columns) := NULL]\n",
    "  return(dt)\n",
    "}\n",
    "\n",
    "transform_column <- function(dt, column_name, cut_off_value) {\n",
    "  # 기존 컬럼명을 컬럼명_continuous로 변경\n",
    "  new_column_name <- paste(column_name, \"_continuous\", sep = \"\")\n",
    "  setnames(dt, old = column_name, new = new_column_name)\n",
    "  \n",
    "  # 새로운 컬럼을 파생시키고 값을 설정\n",
    "  dt[, (column_name) := ifelse(is.na(.SD), NA, ifelse(.SD > cut_off_value, 1, 0)), .SDcols = new_column_name]\n",
    "  dt<-remove_continuous_columns(dt)\n",
    "  \n",
    "  return(dt)\n",
    "}"
   ],
   "id": "f9284573-e94e-4525-bdde-d77b5d5b366e"
  },
  {
   "cell_type": "code",
   "execution_count": null,
   "metadata": {},
   "outputs": [],
   "source": [
    "process_numeric_columns <- function(dt) {\n",
    "  numeric_columns <- names(dt)[sapply(dt, is.numeric)]\n",
    "  exclude_columns <- c(\"PDFS\", \"POS\")  # 제외할 컬럼명 리스트\n",
    "  for(col in numeric_columns) {\n",
    "    if(col %in% exclude_columns) {\n",
    "      next  # PDFS 또는 POS인 경우 다음 순회로 넘어감\n",
    "    }\n",
    "    cut_off_value <- run_maxstat_test(dt, col)\n",
    "    dichotomized_data<-transform_column(dt, col, cut_off_value)\n",
    "  }\n",
    "  return(dt)\n",
    "}\n",
    "\n",
    "\n",
    "dichotomized_data<-process_numeric_columns(selected_data)\n",
    "\n",
    "xtable<-mytable(RECUR ~ ., data = dichotomized_data)"
   ],
   "id": "8bb98674-26ff-4733-afb5-851c7a89ecc1"
  },
  {
   "cell_type": "code",
   "execution_count": null,
   "metadata": {},
   "outputs": [
    {
     "output_type": "stream",
     "name": "stderr",
     "text": [
      "Loading required package: ggplot2"
     ]
    },
    {
     "output_type": "stream",
     "name": "stderr",
     "text": [
      "Loading required package: ggpubr"
     ]
    },
    {
     "output_type": "stream",
     "name": "stderr",
     "text": [
      "\n",
      "Attaching package: 'ggpubr'"
     ]
    },
    {
     "output_type": "stream",
     "name": "stderr",
     "text": [
      "The following object is masked from 'package:plyr':\n",
      "\n",
      "    mutate"
     ]
    },
    {
     "output_type": "stream",
     "name": "stderr",
     "text": [
      "\n",
      "Attaching package: 'survminer'"
     ]
    },
    {
     "output_type": "stream",
     "name": "stderr",
     "text": [
      "The following object is masked from 'package:survival':\n",
      "\n",
      "    myeloma"
     ]
    }
   ],
   "source": [
    "library(survival)\n",
    "library(survminer)"
   ],
   "id": "ae56b866-cb15-48fa-9eab-c610b6559970"
  },
  {
   "cell_type": "markdown",
   "metadata": {},
   "source": [
    "## Background\n",
    "\n",
    "## Methods\n",
    "\n",
    "### Patient cohort\n",
    "\n",
    "We retrospectively reviewed **927** RC patients who underwent R0 surgical resection between **1998-01-13** and **2015-06-12** at the **MD Anderson Cancer Center**. Magnetic resonance imaging was used to evaluate the clinical stage of the tumour preoperatively. The final diagnosis of the patients was confirmed by routine pathology. The exclusion criteria were as follows: recurrent or metastatic RC confirmed preoperatively or at surgery, emergency cases, unavailable clinicopathological data, more than 1 primary cancer, receiving anticancer treatments preoperatively, resections with macro- or microscopically positive pathological margins and with active infection or the use systemic corticosteroids. The TNM classification of malignant tumours, 8th edition, edited by the Union for International Cancer Control (UICC) was used to determine the TNM stage. Patients with T1 RCs and no signs of lymph node metastasis on endorectal ultrasound or MRI underwent local excision through transanal endoscopic microsurgery (TEM), or laparoscopic or open surgery was performed. Informed consent was obtained from each patient, and the present study was approved by the Ethics Committee of the **KIRAMS.**\n",
    "\n",
    "### Definitions\n",
    "\n",
    "Peripheral blood was obtained 1 week prior to surgery. The NLR was determined by dividing the absolute neutrophil count by the absolute lymphocyte count; the PLR was determined by dividing the absolute platelet count by the absolute lymphocyte count; and the LMR was determined by dividing the absolute lymphocyte count by the absolute monocyte count. The PNI was calculated by the following formula: serum albumin (g/L) + 5 × total lymphocyte count × 109/L. \\[19\\] Postoperative complications were defined as any in-hospital or 30-day postoperative complication and graded according to the Clavien- Dindo classification \\[20\\].\n",
    "\n",
    "### Follow-up and study endpoints\n",
    "\n",
    "Patients were followed-up periodically after surgery. Re-examination was performed at 3-month intervals for the first 2 years postoperatively, every 6months for the next 3 years and every year thereafter. Physical examinations and blood tests, including serum carcinoembryonic antigen (CEA) levels, were performed at each follow-up. A chest X-ray and abdominopelvic computed tomography scan were performed every 6 months, and colonoscopy was performed annually or when there was a suspicion of recurrence. In addition, rigid rectoscopy and endorectal ultrasound were conducted at every visit except for the colonoscopy visit of the TEM patients. The primary endpoints were cancer recurrence or death. The secondary endpoint was the occurrence of postoperative complications. Overall survival (OS) was calculated as the date of diagnosis to the date of death from any cause. Disease-free survival (DFS) was defined as the time interval from cancer diagnosis until tumour recurrence or death from any cause.\n",
    "\n",
    "### Statistical analysis\n",
    "\n",
    "The data are presented as the mean ± standard deviation. Categorical variables were analysed with Pearson’s Chisquare test or Fisher’s exact test as appropriate. The cutoff values for NLR, PLR, LMR, and PNI were determined using **maxstat package test function**. Kaplan–Meier analysis and the log rank test were used to compare the survival curves of the 2 groups. Risk factors for poor survival were detected by univariate and multivariate analyses using the Cox proportional hazards model. Variables with a P value of \\< 0.05 in the univariate analysis were further evaluated in the multivariate analysis to assess the independent predictors for OS and DFS. Statistical analyses were performed using **R version 4.4.0 (2024-04-24 ucrt).** A statistically significant difference was defined as a P value of \\< 0.05.\n",
    "\n",
    "## Results\n",
    "\n",
    "### Baseline patient characteristics and inflammatory-related parameters\n",
    "\n",
    "A total of **927** RC patients were enrolled in this study. The characteristics of the patients are shown in Table 1. Our study group comprised 90 (58.4%) male and 64 (41.6%) female patients, with a mean age of 63.7 years (range 32–90 years). A total of 63 (40.9%) patients had 1 or more comorbidities. TEM was conducted in 47 patients, while laparoscopic (n = 53) or open surgery (n = 54) was performed in 107 patients. No mortality occurred 30 days after the operation. A total of 26 complications (grade I-IVa) occurred in 22 (14.3%) patients postoperatively, including 22 grade I-II and 4 grade III-IVa complications. With a median followup interval of 42.4 months (range 12–89 months), the 3- year OS and DFS rates of all patients were 90.9 and 87.7%, respectively. Three patients died from a cause other than rectal cancer. The distributions of preoperative inflammatory-related parameters are shown in Table 2. The optimal cut-off values for preoperative NLR, PLR, LMR and PNI that best predicted OS were calculated to be 2.8 (area under the curve (AUC): 0.71; sensitivity: 53.0%; specificity: 84.0%), 140.0 (AUC: 0.64; sensitivity: 80.0%; specificity: 58.0%), 3.9 (AUC: 0.68; sensitivity: 73.0%; specificity: 65.0%), and 47.1 (AUC: 0.75; sensitivity: 60.0%; specificity: 83.0%), respectively (Fig. 1a-d). Then, the patients were dichotomized into high or low NLR/PLR/LMR/PNI groups with these cut-off values. The numbers and features of patients in each group are listed in Table 1."
   ],
   "id": "dc992fcb-d870-49a5-a0a5-e1e549711697"
  },
  {
   "cell_type": "code",
   "execution_count": null,
   "metadata": {},
   "outputs": [
    {
     "output_type": "stream",
     "name": "stdout",
     "text": [
      "\n",
      "                Descriptive Statistics by 'RECUR'                \n",
      "—————————————————————————————————————————————————————————————————— \n",
      "                                  No              Yes          p  \n",
      "                               (N=795)          (N=132)     \n",
      "—————————————————————————————————————————————————————————————————— \n",
      " Male                                                        0.876\n",
      "   - Female                  316 (39.7%)       54 (40.9%)         \n",
      "   - Male                    479 (60.3%)       78 (59.1%)         \n",
      " CCTx                                                        0.736\n",
      "   - 5FU                      2 ( 1.8%)         0 ( 0.0%)         \n",
      "   - NA                       6 ( 5.4%)         0 ( 0.0%)         \n",
      "   - XELODA                  104 (92.9%)       8 (100.0%)         \n",
      " ASA                                                         0.167\n",
      "   - 2                        72 ( 9.1%)       9 ( 6.8%)          \n",
      "   - 3                       266 (33.5%)       34 (25.8%)         \n",
      "   - 4                        2 ( 0.3%)         0 ( 0.0%)         \n",
      "   - NA                      455 (57.2%)       89 (67.4%)         \n",
      " Induct                                                      0.005\n",
      "   - FOLFOX                   8 (72.7%)         0 ( 0.0%)         \n",
      "   - FOLFOX+AVA                0 ( 0.0%)       1 (50.0%)          \n",
      "   - FOLFOX4                  3 (27.3%)         0 ( 0.0%)         \n",
      "   - FOLFOXIRI                 0 ( 0.0%)       1 (50.0%)          \n",
      " Induction                                                   1.000\n",
      "   - No                      784 (98.6%)      130 (98.5%)         \n",
      "   - Yes                      11 ( 1.4%)       2 ( 1.5%)          \n",
      " LOC                                                         0.725\n",
      "   - LR                      303 (38.1%)       51 (38.6%)         \n",
      "   - MR                      343 (43.1%)       60 (45.5%)         \n",
      "   - UR                      149 (18.7%)       21 (15.9%)         \n",
      " cT                                                          0.449\n",
      "   - 2                        42 ( 5.3%)       4 ( 3.0%)          \n",
      "   - 3                       674 (84.8%)      114 (86.4%)         \n",
      "   - 4                        72 ( 9.1%)       14 (10.6%)         \n",
      "   - Unknown                  7 ( 0.9%)         0 ( 0.0%)         \n",
      " cN                                                          0.966\n",
      "   - 0                       231 (29.1%)       41 (31.1%)         \n",
      "   - 1                       470 (59.1%)       75 (56.8%)         \n",
      "   - 2                        88 (11.1%)       15 (11.4%)         \n",
      "   - Unknown                  6 ( 0.8%)        1 ( 0.8%)          \n",
      " cStage                                                      0.896\n",
      "   - II                      231 (29.1%)       41 (31.1%)         \n",
      "   - III                     558 (70.2%)       90 (68.2%)         \n",
      "   - Unknown                  6 ( 0.8%)        1 ( 0.8%)          \n",
      " cStage23                                                    0.896\n",
      "   - II                      231 (29.1%)       41 (31.1%)         \n",
      "   - III                     558 (70.2%)       90 (68.2%)         \n",
      "   - NA                       6 ( 0.8%)        1 ( 0.8%)          \n",
      " APPROACH                                                    0.007\n",
      "   - Laparoscopic             24 ( 3.0%)       2 ( 1.5%)          \n",
      "   - Open                    671 (84.4%)      125 (94.7%)         \n",
      "   - Robot                   100 (12.6%)       5 ( 3.8%)          \n",
      " MIS                                                         0.003\n",
      "   - No                      671 (84.4%)      125 (94.7%)         \n",
      "   - Yes                     124 (15.6%)       7 ( 5.3%)          \n",
      " Surgery                                                     0.162\n",
      "   - aPR                      1 ( 0.1%)         0 ( 0.0%)         \n",
      "   - APR                     162 (20.4%)       41 (31.1%)         \n",
      "   - CAA                     219 (27.5%)       38 (28.8%)         \n",
      "   - Hartmann's excision      4 ( 0.5%)         0 ( 0.0%)         \n",
      "   - LAR                     361 (45.4%)       47 (35.6%)         \n",
      "   - PE                       6 ( 0.8%)        2 ( 1.5%)          \n",
      "   - PPE                      7 ( 0.9%)        1 ( 0.8%)          \n",
      "   - TPE                      14 ( 1.8%)       2 ( 1.5%)          \n",
      "   - ULAR                     21 ( 2.6%)       1 ( 0.8%)          \n",
      " SSS                                                         0.019\n",
      "   - No                      191 (24.0%)       45 (34.1%)         \n",
      "   - Yes                     604 (76.0%)       87 (65.9%)         \n",
      " Histology                                                   0.073\n",
      "   - MD                      675 (84.9%)       98 (74.2%)         \n",
      "   - MD,MUC                   1 ( 0.1%)         0 ( 0.0%)         \n",
      "   - MUC                      1 ( 0.1%)        1 ( 0.8%)          \n",
      "   - NA                       1 ( 0.1%)         0 ( 0.0%)         \n",
      "   - PD                      103 (13.0%)       28 (21.2%)         \n",
      "   - SRC                      1 ( 0.1%)         0 ( 0.0%)         \n",
      "   - SRC,PD                   1 ( 0.1%)         0 ( 0.0%)         \n",
      "   - WD                       12 ( 1.5%)       5 ( 3.8%)          \n",
      " CRM                                                         0.059\n",
      "   - NA                       15 ( 1.9%)       2 ( 1.5%)          \n",
      "   - negative                 1 ( 0.1%)         0 ( 0.0%)         \n",
      "   - Negative                769 (96.7%)      124 (93.9%)         \n",
      "   - Positive                 10 ( 1.3%)       6 ( 4.5%)          \n",
      " DRM                                                         0.116\n",
      "   - NA                       15 ( 1.9%)       3 ( 2.3%)          \n",
      "   - Negative                778 (97.9%)      127 (96.2%)         \n",
      "   - Positive                 2 ( 0.3%)        2 ( 1.5%)          \n",
      " R1                                                          0.017\n",
      "   - 0                       768 (96.6%)      123 (93.2%)         \n",
      "   - 1                        12 ( 1.5%)       7 ( 5.3%)          \n",
      "   - NA                       15 ( 1.9%)       2 ( 1.5%)          \n",
      " pT                                                          0.000\n",
      "   - 0                       169 (21.3%)       9 ( 6.8%)          \n",
      "   - 1                        86 (10.8%)       9 ( 6.8%)          \n",
      "   - 2                       227 (28.6%)       17 (12.9%)         \n",
      "   - 3                       285 (35.8%)       84 (63.6%)         \n",
      "   - 4a                       1 ( 0.1%)        1 ( 0.8%)          \n",
      "   - 4b                       22 ( 2.8%)       12 ( 9.1%)         \n",
      "   - 4B                       1 ( 0.1%)         0 ( 0.0%)         \n",
      "   - is                       4 ( 0.5%)         0 ( 0.0%)         \n",
      " pN                                                          0.000\n",
      "   - 0                       563 (70.8%)       57 (43.2%)         \n",
      "   - 1                       183 (23.0%)       48 (36.4%)         \n",
      "   - 1c                       2 ( 0.3%)        1 ( 0.8%)          \n",
      "   - 2                        47 ( 5.9%)       26 (19.7%)         \n",
      " ypStage                                                     0.000\n",
      "   - 0                       156 (19.6%)       7 ( 5.3%)          \n",
      "   - 1                       243 (30.6%)       17 (12.9%)         \n",
      "   - 2                       163 (20.5%)       33 (25.0%)         \n",
      "   - 3                       233 (29.3%)       75 (56.8%)         \n",
      " LVI                                                         0.000\n",
      "   - 0                       638 (80.3%)       76 (57.6%)         \n",
      "   - 1                       116 (14.6%)       50 (37.9%)         \n",
      "   - NA                       41 ( 5.2%)       6 ( 4.5%)          \n",
      " PNI                                                         0.000\n",
      "   - 0                       605 (76.1%)       74 (56.1%)         \n",
      "   - 1                        99 (12.5%)       39 (29.5%)         \n",
      "   - NA                       91 (11.4%)       19 (14.4%)         \n",
      " LV_PNI                                                      0.000\n",
      "   - 0                       592 (74.5%)       67 (50.8%)         \n",
      "   - 1                       163 (20.5%)       60 (45.5%)         \n",
      "   - NA                       40 ( 5.0%)       5 ( 3.8%)          \n",
      " Adj_CTx                                                     0.505\n",
      "   - 0                        74 ( 9.3%)       14 (10.6%)         \n",
      "   - 1                       714 (89.8%)      118 (89.4%)         \n",
      "   - NA                       7 ( 0.9%)         0 ( 0.0%)         \n",
      " Adj_KIND                                                    0.926\n",
      "   - Fluoropyrimidine only   310 (39.0%)       53 (40.2%)         \n",
      "   - NA                       19 ( 2.4%)       2 ( 1.5%)          \n",
      "   - None                     73 ( 9.2%)       14 (10.6%)         \n",
      "   - oxaliplatin combined     1 ( 0.1%)         0 ( 0.0%)         \n",
      "   - Oxaliplatin combined    392 (49.3%)       63 (47.7%)         \n",
      " CTx_regimen               unique values:69 unique values:69      \n",
      " DEAD                                                        0.000\n",
      "   - No                      744 (93.6%)       66 (50.0%)         \n",
      "   - Yes                      51 ( 6.4%)       66 (50.0%)         \n",
      " Recur_site                unique values:40 unique values:40      \n",
      " PDFS                        44.9 ± 33.4      18.3 ± 13.4    0.000\n",
      " POS                         55.2 ± 39.0      49.9 ± 30.0    0.075\n",
      " AGE                                                         0.014\n",
      "   - 0                        78 ( 9.8%)       23 (17.4%)         \n",
      "   - 1                       717 (90.2%)      109 (82.6%)         \n",
      " RTOP_W                                                      0.887\n",
      "   - 0                       618 (77.9%)      100 (76.9%)         \n",
      "   - 1                       175 (22.1%)       30 (23.1%)         \n",
      " RT_dose                                                     0.000\n",
      "   - 0                        99 (13.7%)       34 (27.2%)         \n",
      "   - 1                       623 (86.3%)       91 (72.8%)         \n",
      " AV                                                          0.109\n",
      "   - 0                       437 (55.0%)       83 (62.9%)         \n",
      "   - 1                       358 (45.0%)       49 (37.1%)         \n",
      " total.LN                                                    0.003\n",
      "   - 0                       105 (13.2%)       31 (23.7%)         \n",
      "   - 1                       689 (86.8%)      100 (76.3%)         \n",
      " Ptve_LN                                                     0.000\n",
      "   - 0                       729 (91.8%)       92 (70.2%)         \n",
      "   - 1                        65 ( 8.2%)       39 (29.8%)         \n",
      " RES_G                                                       0.000\n",
      "   - 0                       399 (50.2%)       24 (18.2%)         \n",
      "   - 1                       396 (49.8%)      108 (81.8%)         \n",
      " Viable                                                      0.012\n",
      "   - 0                        80 (64.0%)       1 (12.5%)          \n",
      "   - 1                        45 (36.0%)       7 (87.5%)          \n",
      " CEA                                                         0.003\n",
      "   - 0                       569 (72.4%)       77 (59.2%)         \n",
      "   - 1                       217 (27.6%)       53 (40.8%)         \n",
      " preAlb                                                      0.031\n",
      "   - 0                       219 (28.6%)       49 (38.6%)         \n",
      "   - 1                       546 (71.4%)       78 (61.4%)         \n",
      " preWBC                                                      0.112\n",
      "   - 0                       238 (29.9%)       30 (22.7%)         \n",
      "   - 1                       557 (70.1%)      102 (77.3%)         \n",
      " prePLT                                                      0.247\n",
      "   - 0                       679 (85.4%)      107 (81.1%)         \n",
      "   - 1                       116 (14.6%)       25 (18.9%)         \n",
      " preNEU                                                      0.032\n",
      "   - 0                        96 (12.1%)       7 ( 5.3%)          \n",
      "   - 1                       699 (87.9%)      125 (94.7%)         \n",
      " preLYM                                                      0.030\n",
      "   - 0                       120 (15.1%)       10 ( 7.6%)         \n",
      "   - 1                       675 (84.9%)      122 (92.4%)         \n",
      " preNLR                                                      0.236\n",
      "   - 0                       623 (78.4%)      110 (83.3%)         \n",
      "   - 1                       172 (21.6%)       22 (16.7%)         \n",
      " prePLR                                                      0.289\n",
      "   - 0                       700 (88.1%)      121 (91.7%)         \n",
      "   - 1                        95 (11.9%)       11 ( 8.3%)         \n",
      " postWBC                                                     0.222\n",
      "   - 0                       169 (21.3%)       35 (26.5%)         \n",
      "   - 1                       624 (78.7%)       97 (73.5%)         \n",
      " postNEU                                                     0.063\n",
      "   - 0                       158 (20.4%)       36 (28.1%)         \n",
      "   - 1                       617 (79.6%)       92 (71.9%)         \n",
      " postLYM                                                     0.061\n",
      "   - 0                       381 (49.6%)       75 (59.1%)         \n",
      "   - 1                       387 (50.4%)       52 (40.9%)         \n",
      " postPLT                                                     0.018\n",
      "   - 0                       253 (31.9%)       28 (21.2%)         \n",
      "   - 1                       540 (68.1%)      104 (78.8%)         \n",
      " postNLR                                                     0.006\n",
      "   - 0                       553 (72.3%)       76 (59.8%)         \n",
      "   - 1                       212 (27.7%)       51 (40.2%)         \n",
      " postPLR                                                     0.026\n",
      "   - 0                       114 (14.9%)       9 ( 7.1%)          \n",
      "   - 1                       651 (85.1%)      118 (92.9%)         \n",
      "—————————————————————————————————————————————————————————————————— "
     ]
    }
   ],
   "source": [
    "xtable"
   ],
   "id": "dfe59569-4307-46bb-bce1-bdeb3f9ccdc1"
  },
  {
   "cell_type": "code",
   "execution_count": null,
   "metadata": {},
   "outputs": [
    {
     "output_type": "display_data",
     "metadata": {},
     "data": {
      "image/png": "[encoded data removed]"
     }
    }
   ],
   "source": [
    "Plot_AGE"
   ],
   "id": "8ea846c1-f74a-4ba2-ae8e-635119b84ea9"
  }
 ],
 "nbformat": 4,
 "nbformat_minor": 5,
 "metadata": {}
}
